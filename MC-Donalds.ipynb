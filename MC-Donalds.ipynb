{
 "cells": [
  {
   "cell_type": "markdown",
   "id": "c16d7018",
   "metadata": {},
   "source": [
    "# Importing the libraries"
   ]
  },
  {
   "cell_type": "code",
   "execution_count": 1,
   "id": "32793288",
   "metadata": {},
   "outputs": [],
   "source": [
    "import numpy as np\n",
    "import pandas as pd\n",
    "import matplotlib.pyplot as plt\n",
    "import seaborn as sns"
   ]
  },
  {
   "cell_type": "markdown",
   "id": "e95ee6c2",
   "metadata": {},
   "source": [
    "# Path of the dataset"
   ]
  },
  {
   "cell_type": "code",
   "execution_count": 2,
   "id": "f4207b96",
   "metadata": {},
   "outputs": [
    {
     "data": {
      "text/html": [
       "<div>\n",
       "<style scoped>\n",
       "    .dataframe tbody tr th:only-of-type {\n",
       "        vertical-align: middle;\n",
       "    }\n",
       "\n",
       "    .dataframe tbody tr th {\n",
       "        vertical-align: top;\n",
       "    }\n",
       "\n",
       "    .dataframe thead th {\n",
       "        text-align: right;\n",
       "    }\n",
       "</style>\n",
       "<table border=\"1\" class=\"dataframe\">\n",
       "  <thead>\n",
       "    <tr style=\"text-align: right;\">\n",
       "      <th></th>\n",
       "      <th>yummy</th>\n",
       "      <th>convenient</th>\n",
       "      <th>spicy</th>\n",
       "      <th>fattening</th>\n",
       "      <th>greasy</th>\n",
       "      <th>fast</th>\n",
       "      <th>cheap</th>\n",
       "      <th>tasty</th>\n",
       "      <th>expensive</th>\n",
       "      <th>healthy</th>\n",
       "      <th>disgusting</th>\n",
       "      <th>Like</th>\n",
       "      <th>Age</th>\n",
       "      <th>VisitFrequency</th>\n",
       "      <th>Gender</th>\n",
       "    </tr>\n",
       "  </thead>\n",
       "  <tbody>\n",
       "    <tr>\n",
       "      <th>0</th>\n",
       "      <td>No</td>\n",
       "      <td>Yes</td>\n",
       "      <td>No</td>\n",
       "      <td>Yes</td>\n",
       "      <td>No</td>\n",
       "      <td>Yes</td>\n",
       "      <td>Yes</td>\n",
       "      <td>No</td>\n",
       "      <td>Yes</td>\n",
       "      <td>No</td>\n",
       "      <td>No</td>\n",
       "      <td>-3</td>\n",
       "      <td>61</td>\n",
       "      <td>Every three months</td>\n",
       "      <td>Female</td>\n",
       "    </tr>\n",
       "    <tr>\n",
       "      <th>1</th>\n",
       "      <td>Yes</td>\n",
       "      <td>Yes</td>\n",
       "      <td>No</td>\n",
       "      <td>Yes</td>\n",
       "      <td>Yes</td>\n",
       "      <td>Yes</td>\n",
       "      <td>Yes</td>\n",
       "      <td>Yes</td>\n",
       "      <td>Yes</td>\n",
       "      <td>No</td>\n",
       "      <td>No</td>\n",
       "      <td>+2</td>\n",
       "      <td>51</td>\n",
       "      <td>Every three months</td>\n",
       "      <td>Female</td>\n",
       "    </tr>\n",
       "    <tr>\n",
       "      <th>2</th>\n",
       "      <td>No</td>\n",
       "      <td>Yes</td>\n",
       "      <td>Yes</td>\n",
       "      <td>Yes</td>\n",
       "      <td>Yes</td>\n",
       "      <td>Yes</td>\n",
       "      <td>No</td>\n",
       "      <td>Yes</td>\n",
       "      <td>Yes</td>\n",
       "      <td>Yes</td>\n",
       "      <td>No</td>\n",
       "      <td>+1</td>\n",
       "      <td>62</td>\n",
       "      <td>Every three months</td>\n",
       "      <td>Female</td>\n",
       "    </tr>\n",
       "    <tr>\n",
       "      <th>3</th>\n",
       "      <td>Yes</td>\n",
       "      <td>Yes</td>\n",
       "      <td>No</td>\n",
       "      <td>Yes</td>\n",
       "      <td>Yes</td>\n",
       "      <td>Yes</td>\n",
       "      <td>Yes</td>\n",
       "      <td>Yes</td>\n",
       "      <td>No</td>\n",
       "      <td>No</td>\n",
       "      <td>Yes</td>\n",
       "      <td>+4</td>\n",
       "      <td>69</td>\n",
       "      <td>Once a week</td>\n",
       "      <td>Female</td>\n",
       "    </tr>\n",
       "    <tr>\n",
       "      <th>4</th>\n",
       "      <td>No</td>\n",
       "      <td>Yes</td>\n",
       "      <td>No</td>\n",
       "      <td>Yes</td>\n",
       "      <td>Yes</td>\n",
       "      <td>Yes</td>\n",
       "      <td>Yes</td>\n",
       "      <td>No</td>\n",
       "      <td>No</td>\n",
       "      <td>Yes</td>\n",
       "      <td>No</td>\n",
       "      <td>+2</td>\n",
       "      <td>49</td>\n",
       "      <td>Once a month</td>\n",
       "      <td>Male</td>\n",
       "    </tr>\n",
       "    <tr>\n",
       "      <th>...</th>\n",
       "      <td>...</td>\n",
       "      <td>...</td>\n",
       "      <td>...</td>\n",
       "      <td>...</td>\n",
       "      <td>...</td>\n",
       "      <td>...</td>\n",
       "      <td>...</td>\n",
       "      <td>...</td>\n",
       "      <td>...</td>\n",
       "      <td>...</td>\n",
       "      <td>...</td>\n",
       "      <td>...</td>\n",
       "      <td>...</td>\n",
       "      <td>...</td>\n",
       "      <td>...</td>\n",
       "    </tr>\n",
       "    <tr>\n",
       "      <th>1448</th>\n",
       "      <td>No</td>\n",
       "      <td>Yes</td>\n",
       "      <td>No</td>\n",
       "      <td>Yes</td>\n",
       "      <td>Yes</td>\n",
       "      <td>No</td>\n",
       "      <td>No</td>\n",
       "      <td>No</td>\n",
       "      <td>Yes</td>\n",
       "      <td>No</td>\n",
       "      <td>Yes</td>\n",
       "      <td>I hate it!-5</td>\n",
       "      <td>47</td>\n",
       "      <td>Once a year</td>\n",
       "      <td>Male</td>\n",
       "    </tr>\n",
       "    <tr>\n",
       "      <th>1449</th>\n",
       "      <td>Yes</td>\n",
       "      <td>Yes</td>\n",
       "      <td>No</td>\n",
       "      <td>Yes</td>\n",
       "      <td>No</td>\n",
       "      <td>No</td>\n",
       "      <td>Yes</td>\n",
       "      <td>Yes</td>\n",
       "      <td>No</td>\n",
       "      <td>Yes</td>\n",
       "      <td>No</td>\n",
       "      <td>+2</td>\n",
       "      <td>36</td>\n",
       "      <td>Once a week</td>\n",
       "      <td>Female</td>\n",
       "    </tr>\n",
       "    <tr>\n",
       "      <th>1450</th>\n",
       "      <td>Yes</td>\n",
       "      <td>Yes</td>\n",
       "      <td>No</td>\n",
       "      <td>Yes</td>\n",
       "      <td>No</td>\n",
       "      <td>Yes</td>\n",
       "      <td>No</td>\n",
       "      <td>Yes</td>\n",
       "      <td>Yes</td>\n",
       "      <td>No</td>\n",
       "      <td>No</td>\n",
       "      <td>+3</td>\n",
       "      <td>52</td>\n",
       "      <td>Once a month</td>\n",
       "      <td>Female</td>\n",
       "    </tr>\n",
       "    <tr>\n",
       "      <th>1451</th>\n",
       "      <td>Yes</td>\n",
       "      <td>Yes</td>\n",
       "      <td>No</td>\n",
       "      <td>No</td>\n",
       "      <td>No</td>\n",
       "      <td>Yes</td>\n",
       "      <td>Yes</td>\n",
       "      <td>Yes</td>\n",
       "      <td>No</td>\n",
       "      <td>Yes</td>\n",
       "      <td>No</td>\n",
       "      <td>+4</td>\n",
       "      <td>41</td>\n",
       "      <td>Every three months</td>\n",
       "      <td>Male</td>\n",
       "    </tr>\n",
       "    <tr>\n",
       "      <th>1452</th>\n",
       "      <td>No</td>\n",
       "      <td>Yes</td>\n",
       "      <td>No</td>\n",
       "      <td>Yes</td>\n",
       "      <td>Yes</td>\n",
       "      <td>No</td>\n",
       "      <td>No</td>\n",
       "      <td>No</td>\n",
       "      <td>Yes</td>\n",
       "      <td>No</td>\n",
       "      <td>Yes</td>\n",
       "      <td>-3</td>\n",
       "      <td>30</td>\n",
       "      <td>Every three months</td>\n",
       "      <td>Male</td>\n",
       "    </tr>\n",
       "  </tbody>\n",
       "</table>\n",
       "<p>1453 rows × 15 columns</p>\n",
       "</div>"
      ],
      "text/plain": [
       "     yummy convenient spicy fattening greasy fast cheap tasty expensive  \\\n",
       "0       No        Yes    No       Yes     No  Yes   Yes    No       Yes   \n",
       "1      Yes        Yes    No       Yes    Yes  Yes   Yes   Yes       Yes   \n",
       "2       No        Yes   Yes       Yes    Yes  Yes    No   Yes       Yes   \n",
       "3      Yes        Yes    No       Yes    Yes  Yes   Yes   Yes        No   \n",
       "4       No        Yes    No       Yes    Yes  Yes   Yes    No        No   \n",
       "...    ...        ...   ...       ...    ...  ...   ...   ...       ...   \n",
       "1448    No        Yes    No       Yes    Yes   No    No    No       Yes   \n",
       "1449   Yes        Yes    No       Yes     No   No   Yes   Yes        No   \n",
       "1450   Yes        Yes    No       Yes     No  Yes    No   Yes       Yes   \n",
       "1451   Yes        Yes    No        No     No  Yes   Yes   Yes        No   \n",
       "1452    No        Yes    No       Yes    Yes   No    No    No       Yes   \n",
       "\n",
       "     healthy disgusting          Like  Age      VisitFrequency  Gender  \n",
       "0         No         No            -3   61  Every three months  Female  \n",
       "1         No         No            +2   51  Every three months  Female  \n",
       "2        Yes         No            +1   62  Every three months  Female  \n",
       "3         No        Yes            +4   69         Once a week  Female  \n",
       "4        Yes         No            +2   49        Once a month    Male  \n",
       "...      ...        ...           ...  ...                 ...     ...  \n",
       "1448      No        Yes  I hate it!-5   47         Once a year    Male  \n",
       "1449     Yes         No            +2   36         Once a week  Female  \n",
       "1450      No         No            +3   52        Once a month  Female  \n",
       "1451     Yes         No            +4   41  Every three months    Male  \n",
       "1452      No        Yes            -3   30  Every three months    Male  \n",
       "\n",
       "[1453 rows x 15 columns]"
      ]
     },
     "execution_count": 2,
     "metadata": {},
     "output_type": "execute_result"
    }
   ],
   "source": [
    "new_data=pd.read_csv(r\"C:\\Users\\admin2\\Desktop\\Fenny Lab intern\\kaggle_coding\\McDonalds Case Study-20230703T152129Z-001\\McDonalds Case Study\\mcdonalds.csv\")\n",
    "new_data"
   ]
  },
  {
   "cell_type": "markdown",
   "id": "44d809a6",
   "metadata": {},
   "source": [
    "# Exploring Data"
   ]
  },
  {
   "cell_type": "code",
   "execution_count": 3,
   "id": "1c48bbaf",
   "metadata": {
    "scrolled": true
   },
   "outputs": [
    {
     "data": {
      "text/html": [
       "<div>\n",
       "<style scoped>\n",
       "    .dataframe tbody tr th:only-of-type {\n",
       "        vertical-align: middle;\n",
       "    }\n",
       "\n",
       "    .dataframe tbody tr th {\n",
       "        vertical-align: top;\n",
       "    }\n",
       "\n",
       "    .dataframe thead th {\n",
       "        text-align: right;\n",
       "    }\n",
       "</style>\n",
       "<table border=\"1\" class=\"dataframe\">\n",
       "  <thead>\n",
       "    <tr style=\"text-align: right;\">\n",
       "      <th></th>\n",
       "      <th>yummy</th>\n",
       "      <th>convenient</th>\n",
       "      <th>spicy</th>\n",
       "      <th>fattening</th>\n",
       "      <th>greasy</th>\n",
       "      <th>fast</th>\n",
       "      <th>cheap</th>\n",
       "      <th>tasty</th>\n",
       "      <th>expensive</th>\n",
       "      <th>healthy</th>\n",
       "      <th>disgusting</th>\n",
       "      <th>Like</th>\n",
       "      <th>Age</th>\n",
       "      <th>VisitFrequency</th>\n",
       "      <th>Gender</th>\n",
       "    </tr>\n",
       "  </thead>\n",
       "  <tbody>\n",
       "    <tr>\n",
       "      <th>0</th>\n",
       "      <td>No</td>\n",
       "      <td>Yes</td>\n",
       "      <td>No</td>\n",
       "      <td>Yes</td>\n",
       "      <td>No</td>\n",
       "      <td>Yes</td>\n",
       "      <td>Yes</td>\n",
       "      <td>No</td>\n",
       "      <td>Yes</td>\n",
       "      <td>No</td>\n",
       "      <td>No</td>\n",
       "      <td>-3</td>\n",
       "      <td>61</td>\n",
       "      <td>Every three months</td>\n",
       "      <td>Female</td>\n",
       "    </tr>\n",
       "    <tr>\n",
       "      <th>1</th>\n",
       "      <td>Yes</td>\n",
       "      <td>Yes</td>\n",
       "      <td>No</td>\n",
       "      <td>Yes</td>\n",
       "      <td>Yes</td>\n",
       "      <td>Yes</td>\n",
       "      <td>Yes</td>\n",
       "      <td>Yes</td>\n",
       "      <td>Yes</td>\n",
       "      <td>No</td>\n",
       "      <td>No</td>\n",
       "      <td>+2</td>\n",
       "      <td>51</td>\n",
       "      <td>Every three months</td>\n",
       "      <td>Female</td>\n",
       "    </tr>\n",
       "    <tr>\n",
       "      <th>2</th>\n",
       "      <td>No</td>\n",
       "      <td>Yes</td>\n",
       "      <td>Yes</td>\n",
       "      <td>Yes</td>\n",
       "      <td>Yes</td>\n",
       "      <td>Yes</td>\n",
       "      <td>No</td>\n",
       "      <td>Yes</td>\n",
       "      <td>Yes</td>\n",
       "      <td>Yes</td>\n",
       "      <td>No</td>\n",
       "      <td>+1</td>\n",
       "      <td>62</td>\n",
       "      <td>Every three months</td>\n",
       "      <td>Female</td>\n",
       "    </tr>\n",
       "    <tr>\n",
       "      <th>3</th>\n",
       "      <td>Yes</td>\n",
       "      <td>Yes</td>\n",
       "      <td>No</td>\n",
       "      <td>Yes</td>\n",
       "      <td>Yes</td>\n",
       "      <td>Yes</td>\n",
       "      <td>Yes</td>\n",
       "      <td>Yes</td>\n",
       "      <td>No</td>\n",
       "      <td>No</td>\n",
       "      <td>Yes</td>\n",
       "      <td>+4</td>\n",
       "      <td>69</td>\n",
       "      <td>Once a week</td>\n",
       "      <td>Female</td>\n",
       "    </tr>\n",
       "    <tr>\n",
       "      <th>4</th>\n",
       "      <td>No</td>\n",
       "      <td>Yes</td>\n",
       "      <td>No</td>\n",
       "      <td>Yes</td>\n",
       "      <td>Yes</td>\n",
       "      <td>Yes</td>\n",
       "      <td>Yes</td>\n",
       "      <td>No</td>\n",
       "      <td>No</td>\n",
       "      <td>Yes</td>\n",
       "      <td>No</td>\n",
       "      <td>+2</td>\n",
       "      <td>49</td>\n",
       "      <td>Once a month</td>\n",
       "      <td>Male</td>\n",
       "    </tr>\n",
       "  </tbody>\n",
       "</table>\n",
       "</div>"
      ],
      "text/plain": [
       "  yummy convenient spicy fattening greasy fast cheap tasty expensive healthy  \\\n",
       "0    No        Yes    No       Yes     No  Yes   Yes    No       Yes      No   \n",
       "1   Yes        Yes    No       Yes    Yes  Yes   Yes   Yes       Yes      No   \n",
       "2    No        Yes   Yes       Yes    Yes  Yes    No   Yes       Yes     Yes   \n",
       "3   Yes        Yes    No       Yes    Yes  Yes   Yes   Yes        No      No   \n",
       "4    No        Yes    No       Yes    Yes  Yes   Yes    No        No     Yes   \n",
       "\n",
       "  disgusting Like  Age      VisitFrequency  Gender  \n",
       "0         No   -3   61  Every three months  Female  \n",
       "1         No   +2   51  Every three months  Female  \n",
       "2         No   +1   62  Every three months  Female  \n",
       "3        Yes   +4   69         Once a week  Female  \n",
       "4         No   +2   49        Once a month    Male  "
      ]
     },
     "execution_count": 3,
     "metadata": {},
     "output_type": "execute_result"
    }
   ],
   "source": [
    "new_data.head()"
   ]
  },
  {
   "cell_type": "code",
   "execution_count": 4,
   "id": "5c0f56ee",
   "metadata": {
    "scrolled": false
   },
   "outputs": [
    {
     "name": "stderr",
     "output_type": "stream",
     "text": [
      "C:\\ProgramData\\Anaconda3\\lib\\site-packages\\seaborn\\categorical.py:3717: UserWarning: The `factorplot` function has been renamed to `catplot`. The original name will be removed in a future release. Please update your code. Note that the default `kind` in `factorplot` (`'point'`) has changed `'strip'` in `catplot`.\n",
      "  warnings.warn(msg)\n"
     ]
    },
    {
     "data": {
      "text/plain": [
       "<seaborn.axisgrid.FacetGrid at 0x25d72237190>"
      ]
     },
     "execution_count": 4,
     "metadata": {},
     "output_type": "execute_result"
    },
    {
     "data": {
      "image/png": "[encoded data removed]",
      "text/plain": [
       "<Figure size 360x360 with 1 Axes>"
      ]
     },
     "metadata": {
      "needs_background": "light"
     },
     "output_type": "display_data"
    }
   ],
   "source": [
    "sns.factorplot(x='Gender', y='Age',data=new_data, kind='bar')"
   ]
  },
  {
   "cell_type": "code",
   "execution_count": 5,
   "id": "65080152",
   "metadata": {
    "scrolled": true
   },
   "outputs": [
    {
     "name": "stderr",
     "output_type": "stream",
     "text": [
      "C:\\ProgramData\\Anaconda3\\lib\\site-packages\\seaborn\\categorical.py:3717: UserWarning: The `factorplot` function has been renamed to `catplot`. The original name will be removed in a future release. Please update your code. Note that the default `kind` in `factorplot` (`'point'`) has changed `'strip'` in `catplot`.\n",
      "  warnings.warn(msg)\n",
      "C:\\ProgramData\\Anaconda3\\lib\\site-packages\\seaborn\\_decorators.py:36: FutureWarning: Pass the following variables as keyword args: x, y. From version 0.12, the only valid positional argument will be `data`, and passing other arguments without an explicit keyword will result in an error or misinterpretation.\n",
      "  warnings.warn(\n"
     ]
    },
    {
     "data": {
      "text/plain": [
       "<seaborn.axisgrid.FacetGrid at 0x25d7e5bcfd0>"
      ]
     },
     "execution_count": 5,
     "metadata": {},
     "output_type": "execute_result"
    },
    {
     "data": {
      "image/png": "[encoded data removed]",
      "text/plain": [
       "<Figure size 2160x360 with 6 Axes>"
      ]
     },
     "metadata": {
      "needs_background": "light"
     },
     "output_type": "display_data"
    }
   ],
   "source": [
    "sns.factorplot(\"Gender\", \"Age\", col='VisitFrequency', data=new_data, kind=\"bar\")"
   ]
  },
  {
   "cell_type": "code",
   "execution_count": 6,
   "id": "834508b1",
   "metadata": {},
   "outputs": [
    {
     "data": {
      "image/png": "[encoded data removed]",
      "text/plain": [
       "<Figure size 432x288 with 1 Axes>"
      ]
     },
     "metadata": {
      "needs_background": "light"
     },
     "output_type": "display_data"
    }
   ],
   "source": [
    "# percentage of missing values per column\n",
    "\n",
    "(new_data.isnull().sum()/len(new_data) * 100).sort_values().plot.barh(title = 'Missing values by columns in percent')\n",
    "plt.show()"
   ]
  },
  {
   "cell_type": "code",
   "execution_count": 7,
   "id": "e40a134a",
   "metadata": {},
   "outputs": [
    {
     "data": {
      "text/plain": [
       "(1453, 15)"
      ]
     },
     "execution_count": 7,
     "metadata": {},
     "output_type": "execute_result"
    }
   ],
   "source": [
    "new_data.shape"
   ]
  },
  {
   "cell_type": "code",
   "execution_count": 8,
   "id": "17f3d135",
   "metadata": {},
   "outputs": [
    {
     "name": "stdout",
     "output_type": "stream",
     "text": [
      "<class 'pandas.core.frame.DataFrame'>\n",
      "RangeIndex: 1453 entries, 0 to 1452\n",
      "Data columns (total 15 columns):\n",
      " #   Column          Non-Null Count  Dtype \n",
      "---  ------          --------------  ----- \n",
      " 0   yummy           1453 non-null   object\n",
      " 1   convenient      1453 non-null   object\n",
      " 2   spicy           1453 non-null   object\n",
      " 3   fattening       1453 non-null   object\n",
      " 4   greasy          1453 non-null   object\n",
      " 5   fast            1453 non-null   object\n",
      " 6   cheap           1453 non-null   object\n",
      " 7   tasty           1453 non-null   object\n",
      " 8   expensive       1453 non-null   object\n",
      " 9   healthy         1453 non-null   object\n",
      " 10  disgusting      1453 non-null   object\n",
      " 11  Like            1453 non-null   object\n",
      " 12  Age             1453 non-null   int64 \n",
      " 13  VisitFrequency  1453 non-null   object\n",
      " 14  Gender          1453 non-null   object\n",
      "dtypes: int64(1), object(14)\n",
      "memory usage: 170.4+ KB\n"
     ]
    }
   ],
   "source": [
    "new_data.info()"
   ]
  },
  {
   "cell_type": "code",
   "execution_count": 9,
   "id": "d60669b1",
   "metadata": {},
   "outputs": [
    {
     "data": {
      "text/html": [
       "<div>\n",
       "<style scoped>\n",
       "    .dataframe tbody tr th:only-of-type {\n",
       "        vertical-align: middle;\n",
       "    }\n",
       "\n",
       "    .dataframe tbody tr th {\n",
       "        vertical-align: top;\n",
       "    }\n",
       "\n",
       "    .dataframe thead th {\n",
       "        text-align: right;\n",
       "    }\n",
       "</style>\n",
       "<table border=\"1\" class=\"dataframe\">\n",
       "  <thead>\n",
       "    <tr style=\"text-align: right;\">\n",
       "      <th></th>\n",
       "      <th>Age</th>\n",
       "    </tr>\n",
       "  </thead>\n",
       "  <tbody>\n",
       "    <tr>\n",
       "      <th>count</th>\n",
       "      <td>1453.000000</td>\n",
       "    </tr>\n",
       "    <tr>\n",
       "      <th>mean</th>\n",
       "      <td>44.604955</td>\n",
       "    </tr>\n",
       "    <tr>\n",
       "      <th>std</th>\n",
       "      <td>14.221178</td>\n",
       "    </tr>\n",
       "    <tr>\n",
       "      <th>min</th>\n",
       "      <td>18.000000</td>\n",
       "    </tr>\n",
       "    <tr>\n",
       "      <th>25%</th>\n",
       "      <td>33.000000</td>\n",
       "    </tr>\n",
       "    <tr>\n",
       "      <th>50%</th>\n",
       "      <td>45.000000</td>\n",
       "    </tr>\n",
       "    <tr>\n",
       "      <th>75%</th>\n",
       "      <td>57.000000</td>\n",
       "    </tr>\n",
       "    <tr>\n",
       "      <th>max</th>\n",
       "      <td>71.000000</td>\n",
       "    </tr>\n",
       "  </tbody>\n",
       "</table>\n",
       "</div>"
      ],
      "text/plain": [
       "               Age\n",
       "count  1453.000000\n",
       "mean     44.604955\n",
       "std      14.221178\n",
       "min      18.000000\n",
       "25%      33.000000\n",
       "50%      45.000000\n",
       "75%      57.000000\n",
       "max      71.000000"
      ]
     },
     "execution_count": 9,
     "metadata": {},
     "output_type": "execute_result"
    }
   ],
   "source": [
    "new_data.describe()"
   ]
  },
  {
   "cell_type": "code",
   "execution_count": 10,
   "id": "a8822495",
   "metadata": {},
   "outputs": [
    {
     "data": {
      "text/plain": [
       "yummy             0\n",
       "convenient        0\n",
       "spicy             0\n",
       "fattening         0\n",
       "greasy            0\n",
       "fast              0\n",
       "cheap             0\n",
       "tasty             0\n",
       "expensive         0\n",
       "healthy           0\n",
       "disgusting        0\n",
       "Like              0\n",
       "Age               0\n",
       "VisitFrequency    0\n",
       "Gender            0\n",
       "dtype: int64"
      ]
     },
     "execution_count": 10,
     "metadata": {},
     "output_type": "execute_result"
    }
   ],
   "source": [
    "new_data.isnull().sum()"
   ]
  },
  {
   "cell_type": "code",
   "execution_count": 11,
   "id": "d8733797",
   "metadata": {},
   "outputs": [
    {
     "data": {
      "text/plain": [
       "55    53\n",
       "60    38\n",
       "37    37\n",
       "59    36\n",
       "57    36\n",
       "52    36\n",
       "58    35\n",
       "36    35\n",
       "49    34\n",
       "62    34\n",
       "50    34\n",
       "32    33\n",
       "44    32\n",
       "56    32\n",
       "64    32\n",
       "53    31\n",
       "26    31\n",
       "24    30\n",
       "35    30\n",
       "51    30\n",
       "47    30\n",
       "42    30\n",
       "23    30\n",
       "39    29\n",
       "29    28\n",
       "34    28\n",
       "30    28\n",
       "38    27\n",
       "40    27\n",
       "31    27\n",
       "25    26\n",
       "33    26\n",
       "61    26\n",
       "67    26\n",
       "48    26\n",
       "43    25\n",
       "27    25\n",
       "63    25\n",
       "54    24\n",
       "41    23\n",
       "22    23\n",
       "65    23\n",
       "45    22\n",
       "20    21\n",
       "46    19\n",
       "28    18\n",
       "66    17\n",
       "21    16\n",
       "18    16\n",
       "70    15\n",
       "69    14\n",
       "68    13\n",
       "19    10\n",
       "71     1\n",
       "Name: Age, dtype: int64"
      ]
     },
     "execution_count": 11,
     "metadata": {},
     "output_type": "execute_result"
    }
   ],
   "source": [
    "new_data['Age'].value_counts()"
   ]
  },
  {
   "cell_type": "markdown",
   "id": "cc212ea2",
   "metadata": {},
   "source": [
    "# One hot encoding"
   ]
  },
  {
   "cell_type": "code",
   "execution_count": 12,
   "id": "b35de06c",
   "metadata": {},
   "outputs": [],
   "source": [
    "X=new_data.iloc[:,:11]\n",
    "y=new_data.iloc[:,-1]"
   ]
  },
  {
   "cell_type": "code",
   "execution_count": 13,
   "id": "2d5f5ced",
   "metadata": {},
   "outputs": [
    {
     "data": {
      "text/html": [
       "<div>\n",
       "<style scoped>\n",
       "    .dataframe tbody tr th:only-of-type {\n",
       "        vertical-align: middle;\n",
       "    }\n",
       "\n",
       "    .dataframe tbody tr th {\n",
       "        vertical-align: top;\n",
       "    }\n",
       "\n",
       "    .dataframe thead th {\n",
       "        text-align: right;\n",
       "    }\n",
       "</style>\n",
       "<table border=\"1\" class=\"dataframe\">\n",
       "  <thead>\n",
       "    <tr style=\"text-align: right;\">\n",
       "      <th></th>\n",
       "      <th>yummy</th>\n",
       "      <th>convenient</th>\n",
       "      <th>spicy</th>\n",
       "      <th>fattening</th>\n",
       "      <th>greasy</th>\n",
       "      <th>fast</th>\n",
       "      <th>cheap</th>\n",
       "      <th>tasty</th>\n",
       "      <th>expensive</th>\n",
       "      <th>healthy</th>\n",
       "      <th>disgusting</th>\n",
       "    </tr>\n",
       "  </thead>\n",
       "  <tbody>\n",
       "    <tr>\n",
       "      <th>0</th>\n",
       "      <td>No</td>\n",
       "      <td>Yes</td>\n",
       "      <td>No</td>\n",
       "      <td>Yes</td>\n",
       "      <td>No</td>\n",
       "      <td>Yes</td>\n",
       "      <td>Yes</td>\n",
       "      <td>No</td>\n",
       "      <td>Yes</td>\n",
       "      <td>No</td>\n",
       "      <td>No</td>\n",
       "    </tr>\n",
       "    <tr>\n",
       "      <th>1</th>\n",
       "      <td>Yes</td>\n",
       "      <td>Yes</td>\n",
       "      <td>No</td>\n",
       "      <td>Yes</td>\n",
       "      <td>Yes</td>\n",
       "      <td>Yes</td>\n",
       "      <td>Yes</td>\n",
       "      <td>Yes</td>\n",
       "      <td>Yes</td>\n",
       "      <td>No</td>\n",
       "      <td>No</td>\n",
       "    </tr>\n",
       "    <tr>\n",
       "      <th>2</th>\n",
       "      <td>No</td>\n",
       "      <td>Yes</td>\n",
       "      <td>Yes</td>\n",
       "      <td>Yes</td>\n",
       "      <td>Yes</td>\n",
       "      <td>Yes</td>\n",
       "      <td>No</td>\n",
       "      <td>Yes</td>\n",
       "      <td>Yes</td>\n",
       "      <td>Yes</td>\n",
       "      <td>No</td>\n",
       "    </tr>\n",
       "    <tr>\n",
       "      <th>3</th>\n",
       "      <td>Yes</td>\n",
       "      <td>Yes</td>\n",
       "      <td>No</td>\n",
       "      <td>Yes</td>\n",
       "      <td>Yes</td>\n",
       "      <td>Yes</td>\n",
       "      <td>Yes</td>\n",
       "      <td>Yes</td>\n",
       "      <td>No</td>\n",
       "      <td>No</td>\n",
       "      <td>Yes</td>\n",
       "    </tr>\n",
       "    <tr>\n",
       "      <th>4</th>\n",
       "      <td>No</td>\n",
       "      <td>Yes</td>\n",
       "      <td>No</td>\n",
       "      <td>Yes</td>\n",
       "      <td>Yes</td>\n",
       "      <td>Yes</td>\n",
       "      <td>Yes</td>\n",
       "      <td>No</td>\n",
       "      <td>No</td>\n",
       "      <td>Yes</td>\n",
       "      <td>No</td>\n",
       "    </tr>\n",
       "    <tr>\n",
       "      <th>...</th>\n",
       "      <td>...</td>\n",
       "      <td>...</td>\n",
       "      <td>...</td>\n",
       "      <td>...</td>\n",
       "      <td>...</td>\n",
       "      <td>...</td>\n",
       "      <td>...</td>\n",
       "      <td>...</td>\n",
       "      <td>...</td>\n",
       "      <td>...</td>\n",
       "      <td>...</td>\n",
       "    </tr>\n",
       "    <tr>\n",
       "      <th>1448</th>\n",
       "      <td>No</td>\n",
       "      <td>Yes</td>\n",
       "      <td>No</td>\n",
       "      <td>Yes</td>\n",
       "      <td>Yes</td>\n",
       "      <td>No</td>\n",
       "      <td>No</td>\n",
       "      <td>No</td>\n",
       "      <td>Yes</td>\n",
       "      <td>No</td>\n",
       "      <td>Yes</td>\n",
       "    </tr>\n",
       "    <tr>\n",
       "      <th>1449</th>\n",
       "      <td>Yes</td>\n",
       "      <td>Yes</td>\n",
       "      <td>No</td>\n",
       "      <td>Yes</td>\n",
       "      <td>No</td>\n",
       "      <td>No</td>\n",
       "      <td>Yes</td>\n",
       "      <td>Yes</td>\n",
       "      <td>No</td>\n",
       "      <td>Yes</td>\n",
       "      <td>No</td>\n",
       "    </tr>\n",
       "    <tr>\n",
       "      <th>1450</th>\n",
       "      <td>Yes</td>\n",
       "      <td>Yes</td>\n",
       "      <td>No</td>\n",
       "      <td>Yes</td>\n",
       "      <td>No</td>\n",
       "      <td>Yes</td>\n",
       "      <td>No</td>\n",
       "      <td>Yes</td>\n",
       "      <td>Yes</td>\n",
       "      <td>No</td>\n",
       "      <td>No</td>\n",
       "    </tr>\n",
       "    <tr>\n",
       "      <th>1451</th>\n",
       "      <td>Yes</td>\n",
       "      <td>Yes</td>\n",
       "      <td>No</td>\n",
       "      <td>No</td>\n",
       "      <td>No</td>\n",
       "      <td>Yes</td>\n",
       "      <td>Yes</td>\n",
       "      <td>Yes</td>\n",
       "      <td>No</td>\n",
       "      <td>Yes</td>\n",
       "      <td>No</td>\n",
       "    </tr>\n",
       "    <tr>\n",
       "      <th>1452</th>\n",
       "      <td>No</td>\n",
       "      <td>Yes</td>\n",
       "      <td>No</td>\n",
       "      <td>Yes</td>\n",
       "      <td>Yes</td>\n",
       "      <td>No</td>\n",
       "      <td>No</td>\n",
       "      <td>No</td>\n",
       "      <td>Yes</td>\n",
       "      <td>No</td>\n",
       "      <td>Yes</td>\n",
       "    </tr>\n",
       "  </tbody>\n",
       "</table>\n",
       "<p>1453 rows × 11 columns</p>\n",
       "</div>"
      ],
      "text/plain": [
       "     yummy convenient spicy fattening greasy fast cheap tasty expensive  \\\n",
       "0       No        Yes    No       Yes     No  Yes   Yes    No       Yes   \n",
       "1      Yes        Yes    No       Yes    Yes  Yes   Yes   Yes       Yes   \n",
       "2       No        Yes   Yes       Yes    Yes  Yes    No   Yes       Yes   \n",
       "3      Yes        Yes    No       Yes    Yes  Yes   Yes   Yes        No   \n",
       "4       No        Yes    No       Yes    Yes  Yes   Yes    No        No   \n",
       "...    ...        ...   ...       ...    ...  ...   ...   ...       ...   \n",
       "1448    No        Yes    No       Yes    Yes   No    No    No       Yes   \n",
       "1449   Yes        Yes    No       Yes     No   No   Yes   Yes        No   \n",
       "1450   Yes        Yes    No       Yes     No  Yes    No   Yes       Yes   \n",
       "1451   Yes        Yes    No        No     No  Yes   Yes   Yes        No   \n",
       "1452    No        Yes    No       Yes    Yes   No    No    No       Yes   \n",
       "\n",
       "     healthy disgusting  \n",
       "0         No         No  \n",
       "1         No         No  \n",
       "2        Yes         No  \n",
       "3         No        Yes  \n",
       "4        Yes         No  \n",
       "...      ...        ...  \n",
       "1448      No        Yes  \n",
       "1449     Yes         No  \n",
       "1450      No         No  \n",
       "1451     Yes         No  \n",
       "1452      No        Yes  \n",
       "\n",
       "[1453 rows x 11 columns]"
      ]
     },
     "execution_count": 13,
     "metadata": {},
     "output_type": "execute_result"
    }
   ],
   "source": [
    "X"
   ]
  },
  {
   "cell_type": "code",
   "execution_count": 14,
   "id": "9d9169ad",
   "metadata": {},
   "outputs": [
    {
     "data": {
      "text/plain": [
       "0       Female\n",
       "1       Female\n",
       "2       Female\n",
       "3       Female\n",
       "4         Male\n",
       "         ...  \n",
       "1448      Male\n",
       "1449    Female\n",
       "1450    Female\n",
       "1451      Male\n",
       "1452      Male\n",
       "Name: Gender, Length: 1453, dtype: object"
      ]
     },
     "execution_count": 14,
     "metadata": {},
     "output_type": "execute_result"
    }
   ],
   "source": [
    "y"
   ]
  },
  {
   "cell_type": "code",
   "execution_count": 15,
   "id": "26138942",
   "metadata": {},
   "outputs": [
    {
     "name": "stdout",
     "output_type": "stream",
     "text": [
      "      yummy_Yes  convenient_Yes  spicy_Yes  fattening_Yes  greasy_Yes  \\\n",
      "0             0               1          0              1           0   \n",
      "1             1               1          0              1           1   \n",
      "2             0               1          1              1           1   \n",
      "3             1               1          0              1           1   \n",
      "4             0               1          0              1           1   \n",
      "...         ...             ...        ...            ...         ...   \n",
      "1448          0               1          0              1           1   \n",
      "1449          1               1          0              1           0   \n",
      "1450          1               1          0              1           0   \n",
      "1451          1               1          0              0           0   \n",
      "1452          0               1          0              1           1   \n",
      "\n",
      "      fast_Yes  cheap_Yes  tasty_Yes  expensive_Yes  healthy_Yes  \\\n",
      "0            1          1          0              1            0   \n",
      "1            1          1          1              1            0   \n",
      "2            1          0          1              1            1   \n",
      "3            1          1          1              0            0   \n",
      "4            1          1          0              0            1   \n",
      "...        ...        ...        ...            ...          ...   \n",
      "1448         0          0          0              1            0   \n",
      "1449         0          1          1              0            1   \n",
      "1450         1          0          1              1            0   \n",
      "1451         1          1          1              0            1   \n",
      "1452         0          0          0              1            0   \n",
      "\n",
      "      disgusting_Yes  \n",
      "0                  0  \n",
      "1                  0  \n",
      "2                  0  \n",
      "3                  1  \n",
      "4                  0  \n",
      "...              ...  \n",
      "1448               1  \n",
      "1449               0  \n",
      "1450               0  \n",
      "1451               0  \n",
      "1452               1  \n",
      "\n",
      "[1453 rows x 11 columns]\n"
     ]
    }
   ],
   "source": [
    "# Perform one-hot encoding with drop_first=True\n",
    "encoded_X = pd.get_dummies(X, drop_first=True)\n",
    "\n",
    "# Print the encoded DataFrame\n",
    "print(encoded_X)"
   ]
  },
  {
   "cell_type": "code",
   "execution_count": 16,
   "id": "7c463355",
   "metadata": {},
   "outputs": [
    {
     "name": "stdout",
     "output_type": "stream",
     "text": [
      "      Female  Male\n",
      "0          1     0\n",
      "1          1     0\n",
      "2          1     0\n",
      "3          1     0\n",
      "4          0     1\n",
      "...      ...   ...\n",
      "1448       0     1\n",
      "1449       1     0\n",
      "1450       1     0\n",
      "1451       0     1\n",
      "1452       0     1\n",
      "\n",
      "[1453 rows x 2 columns]\n"
     ]
    }
   ],
   "source": [
    "# Perform one-hot encoding with drop_first=True\n",
    "encoded_y = pd.get_dummies(y, drop_first=False)\n",
    "\n",
    "# Print the encoded DataFrame\n",
    "print(encoded_y)"
   ]
  },
  {
   "cell_type": "code",
   "execution_count": 17,
   "id": "7d1b9a6d",
   "metadata": {},
   "outputs": [
    {
     "data": {
      "text/html": [
       "<div>\n",
       "<style scoped>\n",
       "    .dataframe tbody tr th:only-of-type {\n",
       "        vertical-align: middle;\n",
       "    }\n",
       "\n",
       "    .dataframe tbody tr th {\n",
       "        vertical-align: top;\n",
       "    }\n",
       "\n",
       "    .dataframe thead th {\n",
       "        text-align: right;\n",
       "    }\n",
       "</style>\n",
       "<table border=\"1\" class=\"dataframe\">\n",
       "  <thead>\n",
       "    <tr style=\"text-align: right;\">\n",
       "      <th></th>\n",
       "      <th>yummy_Yes</th>\n",
       "      <th>convenient_Yes</th>\n",
       "      <th>spicy_Yes</th>\n",
       "      <th>fattening_Yes</th>\n",
       "      <th>greasy_Yes</th>\n",
       "      <th>fast_Yes</th>\n",
       "      <th>cheap_Yes</th>\n",
       "      <th>tasty_Yes</th>\n",
       "      <th>expensive_Yes</th>\n",
       "      <th>healthy_Yes</th>\n",
       "      <th>disgusting_Yes</th>\n",
       "    </tr>\n",
       "  </thead>\n",
       "  <tbody>\n",
       "    <tr>\n",
       "      <th>0</th>\n",
       "      <td>0</td>\n",
       "      <td>1</td>\n",
       "      <td>0</td>\n",
       "      <td>1</td>\n",
       "      <td>0</td>\n",
       "      <td>1</td>\n",
       "      <td>1</td>\n",
       "      <td>0</td>\n",
       "      <td>1</td>\n",
       "      <td>0</td>\n",
       "      <td>0</td>\n",
       "    </tr>\n",
       "    <tr>\n",
       "      <th>1</th>\n",
       "      <td>1</td>\n",
       "      <td>1</td>\n",
       "      <td>0</td>\n",
       "      <td>1</td>\n",
       "      <td>1</td>\n",
       "      <td>1</td>\n",
       "      <td>1</td>\n",
       "      <td>1</td>\n",
       "      <td>1</td>\n",
       "      <td>0</td>\n",
       "      <td>0</td>\n",
       "    </tr>\n",
       "    <tr>\n",
       "      <th>2</th>\n",
       "      <td>0</td>\n",
       "      <td>1</td>\n",
       "      <td>1</td>\n",
       "      <td>1</td>\n",
       "      <td>1</td>\n",
       "      <td>1</td>\n",
       "      <td>0</td>\n",
       "      <td>1</td>\n",
       "      <td>1</td>\n",
       "      <td>1</td>\n",
       "      <td>0</td>\n",
       "    </tr>\n",
       "    <tr>\n",
       "      <th>3</th>\n",
       "      <td>1</td>\n",
       "      <td>1</td>\n",
       "      <td>0</td>\n",
       "      <td>1</td>\n",
       "      <td>1</td>\n",
       "      <td>1</td>\n",
       "      <td>1</td>\n",
       "      <td>1</td>\n",
       "      <td>0</td>\n",
       "      <td>0</td>\n",
       "      <td>1</td>\n",
       "    </tr>\n",
       "    <tr>\n",
       "      <th>4</th>\n",
       "      <td>0</td>\n",
       "      <td>1</td>\n",
       "      <td>0</td>\n",
       "      <td>1</td>\n",
       "      <td>1</td>\n",
       "      <td>1</td>\n",
       "      <td>1</td>\n",
       "      <td>0</td>\n",
       "      <td>0</td>\n",
       "      <td>1</td>\n",
       "      <td>0</td>\n",
       "    </tr>\n",
       "    <tr>\n",
       "      <th>...</th>\n",
       "      <td>...</td>\n",
       "      <td>...</td>\n",
       "      <td>...</td>\n",
       "      <td>...</td>\n",
       "      <td>...</td>\n",
       "      <td>...</td>\n",
       "      <td>...</td>\n",
       "      <td>...</td>\n",
       "      <td>...</td>\n",
       "      <td>...</td>\n",
       "      <td>...</td>\n",
       "    </tr>\n",
       "    <tr>\n",
       "      <th>1448</th>\n",
       "      <td>0</td>\n",
       "      <td>1</td>\n",
       "      <td>0</td>\n",
       "      <td>1</td>\n",
       "      <td>1</td>\n",
       "      <td>0</td>\n",
       "      <td>0</td>\n",
       "      <td>0</td>\n",
       "      <td>1</td>\n",
       "      <td>0</td>\n",
       "      <td>1</td>\n",
       "    </tr>\n",
       "    <tr>\n",
       "      <th>1449</th>\n",
       "      <td>1</td>\n",
       "      <td>1</td>\n",
       "      <td>0</td>\n",
       "      <td>1</td>\n",
       "      <td>0</td>\n",
       "      <td>0</td>\n",
       "      <td>1</td>\n",
       "      <td>1</td>\n",
       "      <td>0</td>\n",
       "      <td>1</td>\n",
       "      <td>0</td>\n",
       "    </tr>\n",
       "    <tr>\n",
       "      <th>1450</th>\n",
       "      <td>1</td>\n",
       "      <td>1</td>\n",
       "      <td>0</td>\n",
       "      <td>1</td>\n",
       "      <td>0</td>\n",
       "      <td>1</td>\n",
       "      <td>0</td>\n",
       "      <td>1</td>\n",
       "      <td>1</td>\n",
       "      <td>0</td>\n",
       "      <td>0</td>\n",
       "    </tr>\n",
       "    <tr>\n",
       "      <th>1451</th>\n",
       "      <td>1</td>\n",
       "      <td>1</td>\n",
       "      <td>0</td>\n",
       "      <td>0</td>\n",
       "      <td>0</td>\n",
       "      <td>1</td>\n",
       "      <td>1</td>\n",
       "      <td>1</td>\n",
       "      <td>0</td>\n",
       "      <td>1</td>\n",
       "      <td>0</td>\n",
       "    </tr>\n",
       "    <tr>\n",
       "      <th>1452</th>\n",
       "      <td>0</td>\n",
       "      <td>1</td>\n",
       "      <td>0</td>\n",
       "      <td>1</td>\n",
       "      <td>1</td>\n",
       "      <td>0</td>\n",
       "      <td>0</td>\n",
       "      <td>0</td>\n",
       "      <td>1</td>\n",
       "      <td>0</td>\n",
       "      <td>1</td>\n",
       "    </tr>\n",
       "  </tbody>\n",
       "</table>\n",
       "<p>1453 rows × 11 columns</p>\n",
       "</div>"
      ],
      "text/plain": [
       "      yummy_Yes  convenient_Yes  spicy_Yes  fattening_Yes  greasy_Yes  \\\n",
       "0             0               1          0              1           0   \n",
       "1             1               1          0              1           1   \n",
       "2             0               1          1              1           1   \n",
       "3             1               1          0              1           1   \n",
       "4             0               1          0              1           1   \n",
       "...         ...             ...        ...            ...         ...   \n",
       "1448          0               1          0              1           1   \n",
       "1449          1               1          0              1           0   \n",
       "1450          1               1          0              1           0   \n",
       "1451          1               1          0              0           0   \n",
       "1452          0               1          0              1           1   \n",
       "\n",
       "      fast_Yes  cheap_Yes  tasty_Yes  expensive_Yes  healthy_Yes  \\\n",
       "0            1          1          0              1            0   \n",
       "1            1          1          1              1            0   \n",
       "2            1          0          1              1            1   \n",
       "3            1          1          1              0            0   \n",
       "4            1          1          0              0            1   \n",
       "...        ...        ...        ...            ...          ...   \n",
       "1448         0          0          0              1            0   \n",
       "1449         0          1          1              0            1   \n",
       "1450         1          0          1              1            0   \n",
       "1451         1          1          1              0            1   \n",
       "1452         0          0          0              1            0   \n",
       "\n",
       "      disgusting_Yes  \n",
       "0                  0  \n",
       "1                  0  \n",
       "2                  0  \n",
       "3                  1  \n",
       "4                  0  \n",
       "...              ...  \n",
       "1448               1  \n",
       "1449               0  \n",
       "1450               0  \n",
       "1451               0  \n",
       "1452               1  \n",
       "\n",
       "[1453 rows x 11 columns]"
      ]
     },
     "execution_count": 17,
     "metadata": {},
     "output_type": "execute_result"
    }
   ],
   "source": [
    "# 0= No, 1=Yes\n",
    "encoded_X"
   ]
  },
  {
   "cell_type": "code",
   "execution_count": 18,
   "id": "6ec431ee",
   "metadata": {},
   "outputs": [
    {
     "data": {
      "text/html": [
       "<div>\n",
       "<style scoped>\n",
       "    .dataframe tbody tr th:only-of-type {\n",
       "        vertical-align: middle;\n",
       "    }\n",
       "\n",
       "    .dataframe tbody tr th {\n",
       "        vertical-align: top;\n",
       "    }\n",
       "\n",
       "    .dataframe thead th {\n",
       "        text-align: right;\n",
       "    }\n",
       "</style>\n",
       "<table border=\"1\" class=\"dataframe\">\n",
       "  <thead>\n",
       "    <tr style=\"text-align: right;\">\n",
       "      <th></th>\n",
       "      <th>Female</th>\n",
       "      <th>Male</th>\n",
       "    </tr>\n",
       "  </thead>\n",
       "  <tbody>\n",
       "    <tr>\n",
       "      <th>0</th>\n",
       "      <td>1</td>\n",
       "      <td>0</td>\n",
       "    </tr>\n",
       "    <tr>\n",
       "      <th>1</th>\n",
       "      <td>1</td>\n",
       "      <td>0</td>\n",
       "    </tr>\n",
       "    <tr>\n",
       "      <th>2</th>\n",
       "      <td>1</td>\n",
       "      <td>0</td>\n",
       "    </tr>\n",
       "    <tr>\n",
       "      <th>3</th>\n",
       "      <td>1</td>\n",
       "      <td>0</td>\n",
       "    </tr>\n",
       "    <tr>\n",
       "      <th>4</th>\n",
       "      <td>0</td>\n",
       "      <td>1</td>\n",
       "    </tr>\n",
       "    <tr>\n",
       "      <th>...</th>\n",
       "      <td>...</td>\n",
       "      <td>...</td>\n",
       "    </tr>\n",
       "    <tr>\n",
       "      <th>1448</th>\n",
       "      <td>0</td>\n",
       "      <td>1</td>\n",
       "    </tr>\n",
       "    <tr>\n",
       "      <th>1449</th>\n",
       "      <td>1</td>\n",
       "      <td>0</td>\n",
       "    </tr>\n",
       "    <tr>\n",
       "      <th>1450</th>\n",
       "      <td>1</td>\n",
       "      <td>0</td>\n",
       "    </tr>\n",
       "    <tr>\n",
       "      <th>1451</th>\n",
       "      <td>0</td>\n",
       "      <td>1</td>\n",
       "    </tr>\n",
       "    <tr>\n",
       "      <th>1452</th>\n",
       "      <td>0</td>\n",
       "      <td>1</td>\n",
       "    </tr>\n",
       "  </tbody>\n",
       "</table>\n",
       "<p>1453 rows × 2 columns</p>\n",
       "</div>"
      ],
      "text/plain": [
       "      Female  Male\n",
       "0          1     0\n",
       "1          1     0\n",
       "2          1     0\n",
       "3          1     0\n",
       "4          0     1\n",
       "...      ...   ...\n",
       "1448       0     1\n",
       "1449       1     0\n",
       "1450       1     0\n",
       "1451       0     1\n",
       "1452       0     1\n",
       "\n",
       "[1453 rows x 2 columns]"
      ]
     },
     "execution_count": 18,
     "metadata": {},
     "output_type": "execute_result"
    }
   ],
   "source": [
    "encoded_y"
   ]
  },
  {
   "cell_type": "code",
   "execution_count": 19,
   "id": "bae7d846",
   "metadata": {},
   "outputs": [
    {
     "data": {
      "text/html": [
       "<div>\n",
       "<style scoped>\n",
       "    .dataframe tbody tr th:only-of-type {\n",
       "        vertical-align: middle;\n",
       "    }\n",
       "\n",
       "    .dataframe tbody tr th {\n",
       "        vertical-align: top;\n",
       "    }\n",
       "\n",
       "    .dataframe thead th {\n",
       "        text-align: right;\n",
       "    }\n",
       "</style>\n",
       "<table border=\"1\" class=\"dataframe\">\n",
       "  <thead>\n",
       "    <tr style=\"text-align: right;\">\n",
       "      <th></th>\n",
       "      <th>yummy_Yes</th>\n",
       "      <th>convenient_Yes</th>\n",
       "      <th>spicy_Yes</th>\n",
       "      <th>fattening_Yes</th>\n",
       "      <th>greasy_Yes</th>\n",
       "      <th>fast_Yes</th>\n",
       "      <th>cheap_Yes</th>\n",
       "      <th>tasty_Yes</th>\n",
       "      <th>expensive_Yes</th>\n",
       "      <th>healthy_Yes</th>\n",
       "      <th>disgusting_Yes</th>\n",
       "    </tr>\n",
       "  </thead>\n",
       "  <tbody>\n",
       "    <tr>\n",
       "      <th>yummy_Yes</th>\n",
       "      <td>1.000000</td>\n",
       "      <td>0.253807</td>\n",
       "      <td>0.008742</td>\n",
       "      <td>-0.087027</td>\n",
       "      <td>-0.151853</td>\n",
       "      <td>0.106836</td>\n",
       "      <td>0.105036</td>\n",
       "      <td>0.687280</td>\n",
       "      <td>-0.061727</td>\n",
       "      <td>0.247183</td>\n",
       "      <td>-0.419852</td>\n",
       "    </tr>\n",
       "    <tr>\n",
       "      <th>convenient_Yes</th>\n",
       "      <td>0.253807</td>\n",
       "      <td>1.000000</td>\n",
       "      <td>0.028928</td>\n",
       "      <td>0.036451</td>\n",
       "      <td>-0.106948</td>\n",
       "      <td>0.243062</td>\n",
       "      <td>0.151574</td>\n",
       "      <td>0.289755</td>\n",
       "      <td>-0.163961</td>\n",
       "      <td>0.099230</td>\n",
       "      <td>-0.340797</td>\n",
       "    </tr>\n",
       "    <tr>\n",
       "      <th>spicy_Yes</th>\n",
       "      <td>0.008742</td>\n",
       "      <td>0.028928</td>\n",
       "      <td>1.000000</td>\n",
       "      <td>-0.041322</td>\n",
       "      <td>0.053932</td>\n",
       "      <td>0.020276</td>\n",
       "      <td>0.017203</td>\n",
       "      <td>0.061154</td>\n",
       "      <td>0.045979</td>\n",
       "      <td>0.106252</td>\n",
       "      <td>0.032834</td>\n",
       "    </tr>\n",
       "    <tr>\n",
       "      <th>fattening_Yes</th>\n",
       "      <td>-0.087027</td>\n",
       "      <td>0.036451</td>\n",
       "      <td>-0.041322</td>\n",
       "      <td>1.000000</td>\n",
       "      <td>0.319283</td>\n",
       "      <td>0.045600</td>\n",
       "      <td>-0.026640</td>\n",
       "      <td>-0.087561</td>\n",
       "      <td>0.089134</td>\n",
       "      <td>-0.338401</td>\n",
       "      <td>0.146054</td>\n",
       "    </tr>\n",
       "    <tr>\n",
       "      <th>greasy_Yes</th>\n",
       "      <td>-0.151853</td>\n",
       "      <td>-0.106948</td>\n",
       "      <td>0.053932</td>\n",
       "      <td>0.319283</td>\n",
       "      <td>1.000000</td>\n",
       "      <td>-0.058212</td>\n",
       "      <td>-0.073264</td>\n",
       "      <td>-0.163536</td>\n",
       "      <td>0.147283</td>\n",
       "      <td>-0.211186</td>\n",
       "      <td>0.321879</td>\n",
       "    </tr>\n",
       "    <tr>\n",
       "      <th>fast_Yes</th>\n",
       "      <td>0.106836</td>\n",
       "      <td>0.243062</td>\n",
       "      <td>0.020276</td>\n",
       "      <td>0.045600</td>\n",
       "      <td>-0.058212</td>\n",
       "      <td>1.000000</td>\n",
       "      <td>0.252133</td>\n",
       "      <td>0.145836</td>\n",
       "      <td>-0.201694</td>\n",
       "      <td>0.033596</td>\n",
       "      <td>-0.137993</td>\n",
       "    </tr>\n",
       "    <tr>\n",
       "      <th>cheap_Yes</th>\n",
       "      <td>0.105036</td>\n",
       "      <td>0.151574</td>\n",
       "      <td>0.017203</td>\n",
       "      <td>-0.026640</td>\n",
       "      <td>-0.073264</td>\n",
       "      <td>0.252133</td>\n",
       "      <td>1.000000</td>\n",
       "      <td>0.139485</td>\n",
       "      <td>-0.721593</td>\n",
       "      <td>0.130003</td>\n",
       "      <td>-0.125602</td>\n",
       "    </tr>\n",
       "    <tr>\n",
       "      <th>tasty_Yes</th>\n",
       "      <td>0.687280</td>\n",
       "      <td>0.289755</td>\n",
       "      <td>0.061154</td>\n",
       "      <td>-0.087561</td>\n",
       "      <td>-0.163536</td>\n",
       "      <td>0.145836</td>\n",
       "      <td>0.139485</td>\n",
       "      <td>1.000000</td>\n",
       "      <td>-0.104884</td>\n",
       "      <td>0.226271</td>\n",
       "      <td>-0.437086</td>\n",
       "    </tr>\n",
       "    <tr>\n",
       "      <th>expensive_Yes</th>\n",
       "      <td>-0.061727</td>\n",
       "      <td>-0.163961</td>\n",
       "      <td>0.045979</td>\n",
       "      <td>0.089134</td>\n",
       "      <td>0.147283</td>\n",
       "      <td>-0.201694</td>\n",
       "      <td>-0.721593</td>\n",
       "      <td>-0.104884</td>\n",
       "      <td>1.000000</td>\n",
       "      <td>-0.069873</td>\n",
       "      <td>0.199748</td>\n",
       "    </tr>\n",
       "    <tr>\n",
       "      <th>healthy_Yes</th>\n",
       "      <td>0.247183</td>\n",
       "      <td>0.099230</td>\n",
       "      <td>0.106252</td>\n",
       "      <td>-0.338401</td>\n",
       "      <td>-0.211186</td>\n",
       "      <td>0.033596</td>\n",
       "      <td>0.130003</td>\n",
       "      <td>0.226271</td>\n",
       "      <td>-0.069873</td>\n",
       "      <td>1.000000</td>\n",
       "      <td>-0.173722</td>\n",
       "    </tr>\n",
       "    <tr>\n",
       "      <th>disgusting_Yes</th>\n",
       "      <td>-0.419852</td>\n",
       "      <td>-0.340797</td>\n",
       "      <td>0.032834</td>\n",
       "      <td>0.146054</td>\n",
       "      <td>0.321879</td>\n",
       "      <td>-0.137993</td>\n",
       "      <td>-0.125602</td>\n",
       "      <td>-0.437086</td>\n",
       "      <td>0.199748</td>\n",
       "      <td>-0.173722</td>\n",
       "      <td>1.000000</td>\n",
       "    </tr>\n",
       "  </tbody>\n",
       "</table>\n",
       "</div>"
      ],
      "text/plain": [
       "                yummy_Yes  convenient_Yes  spicy_Yes  fattening_Yes  \\\n",
       "yummy_Yes        1.000000        0.253807   0.008742      -0.087027   \n",
       "convenient_Yes   0.253807        1.000000   0.028928       0.036451   \n",
       "spicy_Yes        0.008742        0.028928   1.000000      -0.041322   \n",
       "fattening_Yes   -0.087027        0.036451  -0.041322       1.000000   \n",
       "greasy_Yes      -0.151853       -0.106948   0.053932       0.319283   \n",
       "fast_Yes         0.106836        0.243062   0.020276       0.045600   \n",
       "cheap_Yes        0.105036        0.151574   0.017203      -0.026640   \n",
       "tasty_Yes        0.687280        0.289755   0.061154      -0.087561   \n",
       "expensive_Yes   -0.061727       -0.163961   0.045979       0.089134   \n",
       "healthy_Yes      0.247183        0.099230   0.106252      -0.338401   \n",
       "disgusting_Yes  -0.419852       -0.340797   0.032834       0.146054   \n",
       "\n",
       "                greasy_Yes  fast_Yes  cheap_Yes  tasty_Yes  expensive_Yes  \\\n",
       "yummy_Yes        -0.151853  0.106836   0.105036   0.687280      -0.061727   \n",
       "convenient_Yes   -0.106948  0.243062   0.151574   0.289755      -0.163961   \n",
       "spicy_Yes         0.053932  0.020276   0.017203   0.061154       0.045979   \n",
       "fattening_Yes     0.319283  0.045600  -0.026640  -0.087561       0.089134   \n",
       "greasy_Yes        1.000000 -0.058212  -0.073264  -0.163536       0.147283   \n",
       "fast_Yes         -0.058212  1.000000   0.252133   0.145836      -0.201694   \n",
       "cheap_Yes        -0.073264  0.252133   1.000000   0.139485      -0.721593   \n",
       "tasty_Yes        -0.163536  0.145836   0.139485   1.000000      -0.104884   \n",
       "expensive_Yes     0.147283 -0.201694  -0.721593  -0.104884       1.000000   \n",
       "healthy_Yes      -0.211186  0.033596   0.130003   0.226271      -0.069873   \n",
       "disgusting_Yes    0.321879 -0.137993  -0.125602  -0.437086       0.199748   \n",
       "\n",
       "                healthy_Yes  disgusting_Yes  \n",
       "yummy_Yes          0.247183       -0.419852  \n",
       "convenient_Yes     0.099230       -0.340797  \n",
       "spicy_Yes          0.106252        0.032834  \n",
       "fattening_Yes     -0.338401        0.146054  \n",
       "greasy_Yes        -0.211186        0.321879  \n",
       "fast_Yes           0.033596       -0.137993  \n",
       "cheap_Yes          0.130003       -0.125602  \n",
       "tasty_Yes          0.226271       -0.437086  \n",
       "expensive_Yes     -0.069873        0.199748  \n",
       "healthy_Yes        1.000000       -0.173722  \n",
       "disgusting_Yes    -0.173722        1.000000  "
      ]
     },
     "execution_count": 19,
     "metadata": {},
     "output_type": "execute_result"
    }
   ],
   "source": [
    "corr_matrix = encoded_X.corr()\n",
    "corr_matrix"
   ]
  },
  {
   "cell_type": "code",
   "execution_count": 20,
   "id": "a474ed62",
   "metadata": {},
   "outputs": [
    {
     "data": {
      "text/plain": [
       "<AxesSubplot:>"
      ]
     },
     "execution_count": 20,
     "metadata": {},
     "output_type": "execute_result"
    },
    {
     "data": {
      "image/png": "[encoded data removed]",
      "text/plain": [
       "<Figure size 432x288 with 2 Axes>"
      ]
     },
     "metadata": {
      "needs_background": "light"
     },
     "output_type": "display_data"
    }
   ],
   "source": [
    "sns.heatmap(corr_matrix,annot=True)\n",
    "# plt.matshow(corr_matrix)"
   ]
  },
  {
   "cell_type": "code",
   "execution_count": 21,
   "id": "d250debb",
   "metadata": {},
   "outputs": [
    {
     "data": {
      "text/plain": [
       "yummy_Yes         0.552650\n",
       "convenient_Yes    0.907777\n",
       "spicy_Yes         0.093599\n",
       "fattening_Yes     0.867171\n",
       "greasy_Yes        0.526497\n",
       "fast_Yes          0.900206\n",
       "cheap_Yes         0.598761\n",
       "tasty_Yes         0.644184\n",
       "expensive_Yes     0.357880\n",
       "healthy_Yes       0.198899\n",
       "disgusting_Yes    0.242946\n",
       "dtype: float64"
      ]
     },
     "execution_count": 21,
     "metadata": {},
     "output_type": "execute_result"
    }
   ],
   "source": [
    "# calculate the mean \n",
    "\n",
    "data_mean= encoded_X.mean()\n",
    "data_mean"
   ]
  },
  {
   "cell_type": "code",
   "execution_count": 22,
   "id": "89a2fd29",
   "metadata": {},
   "outputs": [],
   "source": [
    "from sklearn.decomposition import PCA\n",
    "\n",
    "pca = PCA(n_components=10)\n",
    "\n",
    "principalComponents = pca.fit_transform(encoded_X)\n",
    "\n",
    "principalDf = pd.DataFrame(data = principalComponents\n",
    "             , columns = ['principal component 1', 'principal component 2',\n",
    "                         'principal component 3','principal component 4',\n",
    "                         'principal component 5','principal component 6',\n",
    "                         'principal component 7','principal component 8',\n",
    "                         'principal component 9','principal component 10'])"
   ]
  },
  {
   "cell_type": "code",
   "execution_count": 23,
   "id": "455a34ee",
   "metadata": {},
   "outputs": [
    {
     "data": {
      "text/html": [
       "<div>\n",
       "<style scoped>\n",
       "    .dataframe tbody tr th:only-of-type {\n",
       "        vertical-align: middle;\n",
       "    }\n",
       "\n",
       "    .dataframe tbody tr th {\n",
       "        vertical-align: top;\n",
       "    }\n",
       "\n",
       "    .dataframe thead th {\n",
       "        text-align: right;\n",
       "    }\n",
       "</style>\n",
       "<table border=\"1\" class=\"dataframe\">\n",
       "  <thead>\n",
       "    <tr style=\"text-align: right;\">\n",
       "      <th></th>\n",
       "      <th>principal component 1</th>\n",
       "      <th>principal component 2</th>\n",
       "      <th>principal component 3</th>\n",
       "      <th>principal component 4</th>\n",
       "      <th>principal component 5</th>\n",
       "      <th>principal component 6</th>\n",
       "      <th>principal component 7</th>\n",
       "      <th>principal component 8</th>\n",
       "      <th>principal component 9</th>\n",
       "      <th>principal component 10</th>\n",
       "    </tr>\n",
       "  </thead>\n",
       "  <tbody>\n",
       "    <tr>\n",
       "      <th>0</th>\n",
       "      <td>0.425367</td>\n",
       "      <td>-0.219079</td>\n",
       "      <td>0.663255</td>\n",
       "      <td>-0.401300</td>\n",
       "      <td>0.201705</td>\n",
       "      <td>-0.389767</td>\n",
       "      <td>-0.211982</td>\n",
       "      <td>0.163235</td>\n",
       "      <td>0.181007</td>\n",
       "      <td>0.515706</td>\n",
       "    </tr>\n",
       "    <tr>\n",
       "      <th>1</th>\n",
       "      <td>-0.218638</td>\n",
       "      <td>0.388190</td>\n",
       "      <td>-0.730827</td>\n",
       "      <td>-0.094724</td>\n",
       "      <td>0.044669</td>\n",
       "      <td>-0.086596</td>\n",
       "      <td>-0.095877</td>\n",
       "      <td>-0.034756</td>\n",
       "      <td>0.111476</td>\n",
       "      <td>0.493313</td>\n",
       "    </tr>\n",
       "    <tr>\n",
       "      <th>2</th>\n",
       "      <td>0.375415</td>\n",
       "      <td>0.730435</td>\n",
       "      <td>-0.122040</td>\n",
       "      <td>0.692262</td>\n",
       "      <td>0.839643</td>\n",
       "      <td>-0.687406</td>\n",
       "      <td>0.583112</td>\n",
       "      <td>0.364379</td>\n",
       "      <td>-0.322288</td>\n",
       "      <td>0.061759</td>\n",
       "    </tr>\n",
       "    <tr>\n",
       "      <th>3</th>\n",
       "      <td>-0.172926</td>\n",
       "      <td>-0.352752</td>\n",
       "      <td>-0.843795</td>\n",
       "      <td>0.206998</td>\n",
       "      <td>-0.681415</td>\n",
       "      <td>-0.036133</td>\n",
       "      <td>-0.054284</td>\n",
       "      <td>-0.231477</td>\n",
       "      <td>-0.028003</td>\n",
       "      <td>-0.250678</td>\n",
       "    </tr>\n",
       "    <tr>\n",
       "      <th>4</th>\n",
       "      <td>0.187057</td>\n",
       "      <td>-0.807610</td>\n",
       "      <td>0.028537</td>\n",
       "      <td>0.548332</td>\n",
       "      <td>0.854074</td>\n",
       "      <td>-0.097305</td>\n",
       "      <td>-0.457043</td>\n",
       "      <td>0.171758</td>\n",
       "      <td>-0.074409</td>\n",
       "      <td>0.031897</td>\n",
       "    </tr>\n",
       "    <tr>\n",
       "      <th>...</th>\n",
       "      <td>...</td>\n",
       "      <td>...</td>\n",
       "      <td>...</td>\n",
       "      <td>...</td>\n",
       "      <td>...</td>\n",
       "      <td>...</td>\n",
       "      <td>...</td>\n",
       "      <td>...</td>\n",
       "      <td>...</td>\n",
       "      <td>...</td>\n",
       "    </tr>\n",
       "    <tr>\n",
       "      <th>1448</th>\n",
       "      <td>1.550242</td>\n",
       "      <td>0.275031</td>\n",
       "      <td>-0.013737</td>\n",
       "      <td>0.200604</td>\n",
       "      <td>-0.145063</td>\n",
       "      <td>0.306575</td>\n",
       "      <td>-0.075308</td>\n",
       "      <td>0.345552</td>\n",
       "      <td>-0.136589</td>\n",
       "      <td>-0.432798</td>\n",
       "    </tr>\n",
       "    <tr>\n",
       "      <th>1449</th>\n",
       "      <td>-0.957339</td>\n",
       "      <td>0.014308</td>\n",
       "      <td>0.303843</td>\n",
       "      <td>0.444350</td>\n",
       "      <td>-0.133690</td>\n",
       "      <td>0.381804</td>\n",
       "      <td>-0.326432</td>\n",
       "      <td>0.878047</td>\n",
       "      <td>-0.304441</td>\n",
       "      <td>-0.247443</td>\n",
       "    </tr>\n",
       "    <tr>\n",
       "      <th>1450</th>\n",
       "      <td>-0.185894</td>\n",
       "      <td>1.062662</td>\n",
       "      <td>0.220857</td>\n",
       "      <td>-0.467643</td>\n",
       "      <td>-0.187757</td>\n",
       "      <td>-0.192703</td>\n",
       "      <td>-0.091597</td>\n",
       "      <td>-0.036576</td>\n",
       "      <td>0.038255</td>\n",
       "      <td>0.056518</td>\n",
       "    </tr>\n",
       "    <tr>\n",
       "      <th>1451</th>\n",
       "      <td>-1.182064</td>\n",
       "      <td>-0.038570</td>\n",
       "      <td>0.561561</td>\n",
       "      <td>0.701126</td>\n",
       "      <td>0.047645</td>\n",
       "      <td>0.193687</td>\n",
       "      <td>-0.027335</td>\n",
       "      <td>-0.339374</td>\n",
       "      <td>0.022267</td>\n",
       "      <td>-0.002573</td>\n",
       "    </tr>\n",
       "    <tr>\n",
       "      <th>1452</th>\n",
       "      <td>1.550242</td>\n",
       "      <td>0.275031</td>\n",
       "      <td>-0.013737</td>\n",
       "      <td>0.200604</td>\n",
       "      <td>-0.145063</td>\n",
       "      <td>0.306575</td>\n",
       "      <td>-0.075308</td>\n",
       "      <td>0.345552</td>\n",
       "      <td>-0.136589</td>\n",
       "      <td>-0.432798</td>\n",
       "    </tr>\n",
       "  </tbody>\n",
       "</table>\n",
       "<p>1453 rows × 10 columns</p>\n",
       "</div>"
      ],
      "text/plain": [
       "      principal component 1  principal component 2  principal component 3  \\\n",
       "0                  0.425367              -0.219079               0.663255   \n",
       "1                 -0.218638               0.388190              -0.730827   \n",
       "2                  0.375415               0.730435              -0.122040   \n",
       "3                 -0.172926              -0.352752              -0.843795   \n",
       "4                  0.187057              -0.807610               0.028537   \n",
       "...                     ...                    ...                    ...   \n",
       "1448               1.550242               0.275031              -0.013737   \n",
       "1449              -0.957339               0.014308               0.303843   \n",
       "1450              -0.185894               1.062662               0.220857   \n",
       "1451              -1.182064              -0.038570               0.561561   \n",
       "1452               1.550242               0.275031              -0.013737   \n",
       "\n",
       "      principal component 4  principal component 5  principal component 6  \\\n",
       "0                 -0.401300               0.201705              -0.389767   \n",
       "1                 -0.094724               0.044669              -0.086596   \n",
       "2                  0.692262               0.839643              -0.687406   \n",
       "3                  0.206998              -0.681415              -0.036133   \n",
       "4                  0.548332               0.854074              -0.097305   \n",
       "...                     ...                    ...                    ...   \n",
       "1448               0.200604              -0.145063               0.306575   \n",
       "1449               0.444350              -0.133690               0.381804   \n",
       "1450              -0.467643              -0.187757              -0.192703   \n",
       "1451               0.701126               0.047645               0.193687   \n",
       "1452               0.200604              -0.145063               0.306575   \n",
       "\n",
       "      principal component 7  principal component 8  principal component 9  \\\n",
       "0                 -0.211982               0.163235               0.181007   \n",
       "1                 -0.095877              -0.034756               0.111476   \n",
       "2                  0.583112               0.364379              -0.322288   \n",
       "3                 -0.054284              -0.231477              -0.028003   \n",
       "4                 -0.457043               0.171758              -0.074409   \n",
       "...                     ...                    ...                    ...   \n",
       "1448              -0.075308               0.345552              -0.136589   \n",
       "1449              -0.326432               0.878047              -0.304441   \n",
       "1450              -0.091597              -0.036576               0.038255   \n",
       "1451              -0.027335              -0.339374               0.022267   \n",
       "1452              -0.075308               0.345552              -0.136589   \n",
       "\n",
       "      principal component 10  \n",
       "0                   0.515706  \n",
       "1                   0.493313  \n",
       "2                   0.061759  \n",
       "3                  -0.250678  \n",
       "4                   0.031897  \n",
       "...                      ...  \n",
       "1448               -0.432798  \n",
       "1449               -0.247443  \n",
       "1450                0.056518  \n",
       "1451               -0.002573  \n",
       "1452               -0.432798  \n",
       "\n",
       "[1453 rows x 10 columns]"
      ]
     },
     "execution_count": 23,
     "metadata": {},
     "output_type": "execute_result"
    }
   ],
   "source": [
    "principalDf"
   ]
  },
  {
   "cell_type": "code",
   "execution_count": 24,
   "id": "ecfa2534",
   "metadata": {},
   "outputs": [],
   "source": [
    "explained_variance = pca.explained_variance_ratio_"
   ]
  },
  {
   "cell_type": "code",
   "execution_count": 25,
   "id": "2b8933b9",
   "metadata": {},
   "outputs": [
    {
     "data": {
      "text/plain": [
       "array([0.29944723, 0.19279721, 0.13304535, 0.08309578, 0.05948052,\n",
       "       0.05029956, 0.0438491 , 0.03954779, 0.0367609 , 0.03235329])"
      ]
     },
     "execution_count": 25,
     "metadata": {},
     "output_type": "execute_result"
    }
   ],
   "source": [
    "explained_variance"
   ]
  },
  {
   "cell_type": "code",
   "execution_count": 26,
   "id": "7f1399b1",
   "metadata": {},
   "outputs": [
    {
     "name": "stdout",
     "output_type": "stream",
     "text": [
      "         PC1       PC2       PC3       PC4       PC5       PC6       PC7  \\\n",
      "0  -0.476933  0.363790 -0.304444  0.055162 -0.307535  0.170738 -0.280519   \n",
      "1  -0.155332  0.016414 -0.062515 -0.142425  0.277608 -0.347830 -0.059738   \n",
      "2  -0.006356  0.018809 -0.037019  0.197619  0.070620 -0.355087  0.707637   \n",
      "3   0.116232 -0.034094 -0.322359 -0.354139 -0.073405 -0.406515 -0.385943   \n",
      "4   0.304443 -0.063839 -0.802373  0.253960  0.361399  0.209347  0.036170   \n",
      "5  -0.108493 -0.086972 -0.064642 -0.097363  0.107930 -0.594632 -0.086846   \n",
      "6  -0.337186 -0.610633 -0.149310  0.118958 -0.128973 -0.103241 -0.040449   \n",
      "7  -0.471514  0.307318 -0.287265 -0.002547 -0.210899 -0.076914  0.360453   \n",
      "8   0.329042  0.601286  0.024397  0.067816 -0.003125 -0.261342 -0.068385   \n",
      "9  -0.213711  0.076593  0.192051  0.763488  0.287846 -0.178226 -0.349616   \n",
      "10  0.374753 -0.139656 -0.088571  0.369539 -0.729209 -0.210878 -0.026792   \n",
      "\n",
      "         PC8       PC9      PC10  \n",
      "0   0.013041  0.572403 -0.110284  \n",
      "1  -0.113079 -0.018465 -0.665818  \n",
      "2   0.375934  0.400280 -0.075634  \n",
      "3   0.589622 -0.160512 -0.005338  \n",
      "4  -0.138241 -0.002847  0.008707  \n",
      "5  -0.627799  0.166197  0.239532  \n",
      "6   0.140060  0.076069  0.428087  \n",
      "7  -0.072792 -0.639086  0.079184  \n",
      "8   0.029539  0.066996  0.454399  \n",
      "9   0.176303 -0.185572 -0.038117  \n",
      "10 -0.167181 -0.072483 -0.289592  \n"
     ]
    }
   ],
   "source": [
    "# Print rotation matrix\n",
    "rotation_matrix = pd.DataFrame(pca.components_.T, columns=[f\"PC{i+1}\" for i in range(len(pca.components_))])\n",
    "print(rotation_matrix)"
   ]
  },
  {
   "cell_type": "code",
   "execution_count": 27,
   "id": "9a625983",
   "metadata": {},
   "outputs": [
    {
     "data": {
      "image/png": "[encoded data removed]",
      "text/plain": [
       "<Figure size 432x288 with 1 Axes>"
      ]
     },
     "metadata": {
      "needs_background": "light"
     },
     "output_type": "display_data"
    }
   ],
   "source": [
    "# Plotting function for biplot\n",
    "def biplot(score, coeff, labels=None):\n",
    "    xs = score[:, 0]  # 1st principal component\n",
    "    ys = score[:, 1]  # 2nd principal component\n",
    "    n = coeff.shape[0]\n",
    "\n",
    "    plt.scatter(xs, ys, c='gray', alpha=0.5)  # Scatter plot of the data points\n",
    "\n",
    "    # Adding feature vectors (arrows) to the plot\n",
    "    for i in range(n):\n",
    "        plt.arrow(0, 0, coeff[i, 0], coeff[i, 1], color='r', alpha=0.5)\n",
    "        if labels is None:\n",
    "            plt.text(coeff[i, 0] * 1.15, coeff[i, 1] * 1.15, \"PC{}\".format(i + 1), color='g', ha='center', va='center')\n",
    "        else:\n",
    "            plt.text(coeff[i, 0] * 1.15, coeff[i, 1] * 1.15, labels[i], color='g', ha='center', va='center')\n",
    "\n",
    "    plt.xlabel(\"PC1\")\n",
    "    plt.ylabel(\"PC2\")\n",
    "    plt.grid()\n",
    "\n",
    "# Call the biplot function\n",
    "num_components = 2  # Number of components to plot\n",
    "feature_labels = ['yummy_Yes', 'convenient_Yes', 'spicy_Yes', 'fattening_Yes', 'greasy_Yes', 'fast_Yes', 'cheap_Yes', 'tasty_Yes', 'expensive_Yes', 'healthy_Yes', 'disgusting_Yes']\n",
    "biplot(principalComponents[:, :num_components], np.transpose(pca.components_[:num_components, :]), labels=feature_labels)\n",
    "\n",
    "# Show the plot\n",
    "plt.show()"
   ]
  },
  {
   "cell_type": "markdown",
   "id": "e0ead1db",
   "metadata": {},
   "source": [
    "# Extracting Segments"
   ]
  },
  {
   "cell_type": "code",
   "execution_count": 28,
   "id": "9dba0fbb",
   "metadata": {},
   "outputs": [
    {
     "data": {
      "application/javascript": [
       "\n",
       "        if (window._pyforest_update_imports_cell) { window._pyforest_update_imports_cell('from sklearn.cluster import KMeans'); }\n",
       "    "
      ],
      "text/plain": [
       "<IPython.core.display.Javascript object>"
      ]
     },
     "metadata": {},
     "output_type": "display_data"
    },
    {
     "name": "stderr",
     "output_type": "stream",
     "text": [
      "C:\\Users\\admin2\\AppData\\Roaming\\Python\\Python39\\site-packages\\sklearn\\cluster\\_kmeans.py:870: FutureWarning: The default value of `n_init` will change from 10 to 'auto' in 1.4. Set the value of `n_init` explicitly to suppress the warning\n",
      "  warnings.warn(\n"
     ]
    },
    {
     "data": {
      "application/javascript": [
       "\n",
       "        if (window._pyforest_update_imports_cell) { window._pyforest_update_imports_cell('from sklearn.cluster import KMeans'); }\n",
       "    "
      ],
      "text/plain": [
       "<IPython.core.display.Javascript object>"
      ]
     },
     "metadata": {},
     "output_type": "display_data"
    },
    {
     "name": "stderr",
     "output_type": "stream",
     "text": [
      "C:\\Users\\admin2\\AppData\\Roaming\\Python\\Python39\\site-packages\\sklearn\\cluster\\_kmeans.py:870: FutureWarning: The default value of `n_init` will change from 10 to 'auto' in 1.4. Set the value of `n_init` explicitly to suppress the warning\n",
      "  warnings.warn(\n"
     ]
    },
    {
     "data": {
      "application/javascript": [
       "\n",
       "        if (window._pyforest_update_imports_cell) { window._pyforest_update_imports_cell('from sklearn.cluster import KMeans'); }\n",
       "    "
      ],
      "text/plain": [
       "<IPython.core.display.Javascript object>"
      ]
     },
     "metadata": {},
     "output_type": "display_data"
    },
    {
     "name": "stderr",
     "output_type": "stream",
     "text": [
      "C:\\Users\\admin2\\AppData\\Roaming\\Python\\Python39\\site-packages\\sklearn\\cluster\\_kmeans.py:870: FutureWarning: The default value of `n_init` will change from 10 to 'auto' in 1.4. Set the value of `n_init` explicitly to suppress the warning\n",
      "  warnings.warn(\n"
     ]
    },
    {
     "data": {
      "application/javascript": [
       "\n",
       "        if (window._pyforest_update_imports_cell) { window._pyforest_update_imports_cell('from sklearn.cluster import KMeans'); }\n",
       "    "
      ],
      "text/plain": [
       "<IPython.core.display.Javascript object>"
      ]
     },
     "metadata": {},
     "output_type": "display_data"
    },
    {
     "name": "stderr",
     "output_type": "stream",
     "text": [
      "C:\\Users\\admin2\\AppData\\Roaming\\Python\\Python39\\site-packages\\sklearn\\cluster\\_kmeans.py:870: FutureWarning: The default value of `n_init` will change from 10 to 'auto' in 1.4. Set the value of `n_init` explicitly to suppress the warning\n",
      "  warnings.warn(\n"
     ]
    },
    {
     "data": {
      "application/javascript": [
       "\n",
       "        if (window._pyforest_update_imports_cell) { window._pyforest_update_imports_cell('from sklearn.cluster import KMeans'); }\n",
       "    "
      ],
      "text/plain": [
       "<IPython.core.display.Javascript object>"
      ]
     },
     "metadata": {},
     "output_type": "display_data"
    },
    {
     "name": "stderr",
     "output_type": "stream",
     "text": [
      "C:\\Users\\admin2\\AppData\\Roaming\\Python\\Python39\\site-packages\\sklearn\\cluster\\_kmeans.py:870: FutureWarning: The default value of `n_init` will change from 10 to 'auto' in 1.4. Set the value of `n_init` explicitly to suppress the warning\n",
      "  warnings.warn(\n"
     ]
    },
    {
     "data": {
      "application/javascript": [
       "\n",
       "        if (window._pyforest_update_imports_cell) { window._pyforest_update_imports_cell('from sklearn.cluster import KMeans'); }\n",
       "    "
      ],
      "text/plain": [
       "<IPython.core.display.Javascript object>"
      ]
     },
     "metadata": {},
     "output_type": "display_data"
    },
    {
     "name": "stderr",
     "output_type": "stream",
     "text": [
      "C:\\Users\\admin2\\AppData\\Roaming\\Python\\Python39\\site-packages\\sklearn\\cluster\\_kmeans.py:870: FutureWarning: The default value of `n_init` will change from 10 to 'auto' in 1.4. Set the value of `n_init` explicitly to suppress the warning\n",
      "  warnings.warn(\n"
     ]
    },
    {
     "data": {
      "application/javascript": [
       "\n",
       "        if (window._pyforest_update_imports_cell) { window._pyforest_update_imports_cell('from sklearn.cluster import KMeans'); }\n",
       "    "
      ],
      "text/plain": [
       "<IPython.core.display.Javascript object>"
      ]
     },
     "metadata": {},
     "output_type": "display_data"
    },
    {
     "name": "stderr",
     "output_type": "stream",
     "text": [
      "C:\\Users\\admin2\\AppData\\Roaming\\Python\\Python39\\site-packages\\sklearn\\cluster\\_kmeans.py:870: FutureWarning: The default value of `n_init` will change from 10 to 'auto' in 1.4. Set the value of `n_init` explicitly to suppress the warning\n",
      "  warnings.warn(\n"
     ]
    },
    {
     "data": {
      "application/javascript": [
       "\n",
       "        if (window._pyforest_update_imports_cell) { window._pyforest_update_imports_cell('from sklearn.cluster import KMeans'); }\n",
       "    "
      ],
      "text/plain": [
       "<IPython.core.display.Javascript object>"
      ]
     },
     "metadata": {},
     "output_type": "display_data"
    },
    {
     "name": "stderr",
     "output_type": "stream",
     "text": [
      "C:\\Users\\admin2\\AppData\\Roaming\\Python\\Python39\\site-packages\\sklearn\\cluster\\_kmeans.py:870: FutureWarning: The default value of `n_init` will change from 10 to 'auto' in 1.4. Set the value of `n_init` explicitly to suppress the warning\n",
      "  warnings.warn(\n"
     ]
    },
    {
     "data": {
      "application/javascript": [
       "\n",
       "        if (window._pyforest_update_imports_cell) { window._pyforest_update_imports_cell('from sklearn.cluster import KMeans'); }\n",
       "    "
      ],
      "text/plain": [
       "<IPython.core.display.Javascript object>"
      ]
     },
     "metadata": {},
     "output_type": "display_data"
    },
    {
     "name": "stderr",
     "output_type": "stream",
     "text": [
      "C:\\Users\\admin2\\AppData\\Roaming\\Python\\Python39\\site-packages\\sklearn\\cluster\\_kmeans.py:870: FutureWarning: The default value of `n_init` will change from 10 to 'auto' in 1.4. Set the value of `n_init` explicitly to suppress the warning\n",
      "  warnings.warn(\n"
     ]
    },
    {
     "data": {
      "image/png": "[encoded data removed]",
      "text/plain": [
       "<Figure size 432x288 with 1 Axes>"
      ]
     },
     "metadata": {
      "needs_background": "light"
     },
     "output_type": "display_data"
    }
   ],
   "source": [
    "wcss = {}\n",
    "for i in range(1, 10):\n",
    "    kmeans = KMeans(n_clusters = i, init = 'k-means++', random_state = 42)\n",
    "    kmeans.fit(encoded_X)\n",
    "    wcss[i] = kmeans.inertia_\n",
    "\n",
    "plt.plot(wcss.keys(), wcss.values(), 'gs-')\n",
    "plt.xlabel(\"Values of 'k'\")\n",
    "plt.ylabel('sum of cluster ditances')\n",
    "plt.show()"
   ]
  },
  {
   "cell_type": "code",
   "execution_count": 29,
   "id": "8c9c8fe2",
   "metadata": {},
   "outputs": [
    {
     "data": {
      "text/plain": [
       "array([0.29944723, 0.19279721, 0.13304535, 0.08309578, 0.05948052,\n",
       "       0.05029956, 0.0438491 , 0.03954779, 0.0367609 , 0.03235329])"
      ]
     },
     "execution_count": 29,
     "metadata": {},
     "output_type": "execute_result"
    }
   ],
   "source": [
    "pca.explained_variance_ratio_"
   ]
  },
  {
   "cell_type": "code",
   "execution_count": 30,
   "id": "eea946b6",
   "metadata": {},
   "outputs": [
    {
     "name": "stderr",
     "output_type": "stream",
     "text": [
      "C:\\Users\\admin2\\AppData\\Roaming\\Python\\Python39\\site-packages\\sklearn\\cluster\\_kmeans.py:870: FutureWarning: The default value of `n_init` will change from 10 to 'auto' in 1.4. Set the value of `n_init` explicitly to suppress the warning\n",
      "  warnings.warn(\n",
      "C:\\Users\\admin2\\AppData\\Roaming\\Python\\Python39\\site-packages\\sklearn\\cluster\\_kmeans.py:870: FutureWarning: The default value of `n_init` will change from 10 to 'auto' in 1.4. Set the value of `n_init` explicitly to suppress the warning\n",
      "  warnings.warn(\n",
      "C:\\Users\\admin2\\AppData\\Roaming\\Python\\Python39\\site-packages\\sklearn\\cluster\\_kmeans.py:870: FutureWarning: The default value of `n_init` will change from 10 to 'auto' in 1.4. Set the value of `n_init` explicitly to suppress the warning\n",
      "  warnings.warn(\n",
      "C:\\Users\\admin2\\AppData\\Roaming\\Python\\Python39\\site-packages\\sklearn\\cluster\\_kmeans.py:870: FutureWarning: The default value of `n_init` will change from 10 to 'auto' in 1.4. Set the value of `n_init` explicitly to suppress the warning\n",
      "  warnings.warn(\n",
      "C:\\Users\\admin2\\AppData\\Roaming\\Python\\Python39\\site-packages\\sklearn\\cluster\\_kmeans.py:870: FutureWarning: The default value of `n_init` will change from 10 to 'auto' in 1.4. Set the value of `n_init` explicitly to suppress the warning\n",
      "  warnings.warn(\n",
      "C:\\Users\\admin2\\AppData\\Roaming\\Python\\Python39\\site-packages\\sklearn\\cluster\\_kmeans.py:870: FutureWarning: The default value of `n_init` will change from 10 to 'auto' in 1.4. Set the value of `n_init` explicitly to suppress the warning\n",
      "  warnings.warn(\n",
      "C:\\Users\\admin2\\AppData\\Roaming\\Python\\Python39\\site-packages\\sklearn\\cluster\\_kmeans.py:870: FutureWarning: The default value of `n_init` will change from 10 to 'auto' in 1.4. Set the value of `n_init` explicitly to suppress the warning\n",
      "  warnings.warn(\n",
      "C:\\Users\\admin2\\AppData\\Roaming\\Python\\Python39\\site-packages\\sklearn\\cluster\\_kmeans.py:870: FutureWarning: The default value of `n_init` will change from 10 to 'auto' in 1.4. Set the value of `n_init` explicitly to suppress the warning\n",
      "  warnings.warn(\n",
      "C:\\Users\\admin2\\AppData\\Roaming\\Python\\Python39\\site-packages\\sklearn\\cluster\\_kmeans.py:870: FutureWarning: The default value of `n_init` will change from 10 to 'auto' in 1.4. Set the value of `n_init` explicitly to suppress the warning\n",
      "  warnings.warn(\n"
     ]
    },
    {
     "data": {
      "image/png": "[encoded data removed]",
      "text/plain": [
       "<Figure size 432x288 with 1 Axes>"
      ]
     },
     "metadata": {
      "needs_background": "light"
     },
     "output_type": "display_data"
    }
   ],
   "source": [
    "from sklearn.cluster import KMeans\n",
    "\n",
    "encoded_X = encoded_X\n",
    "\n",
    "wcss = {}\n",
    "for i in range(1, 10):\n",
    "    kmeans = KMeans(n_clusters=i, init='k-means++', random_state=42)\n",
    "    kmeans.fit(encoded_X)\n",
    "    wcss[i] = kmeans.inertia_\n",
    "\n",
    "# Extract the values of WCSS\n",
    "values = np.array(list(wcss.values()))\n",
    "\n",
    "# Create a figure and axis\n",
    "fig, ax = plt.subplots()\n",
    "\n",
    "# Create a box plot\n",
    "ax.boxplot(values)\n",
    "\n",
    "# Set labels and title\n",
    "ax.set_xlabel(\"Values of 'k'\")\n",
    "ax.set_ylabel('Sum of cluster distances')\n",
    "ax.set_title(\"Box Plot for k-means\")\n",
    "\n",
    "# Display the plot\n",
    "plt.show()"
   ]
  },
  {
   "cell_type": "markdown",
   "id": "35e23e01",
   "metadata": {},
   "source": [
    "# Using Mixtures of Distributions"
   ]
  },
  {
   "cell_type": "code",
   "execution_count": 31,
   "id": "6035e775",
   "metadata": {
    "scrolled": false
   },
   "outputs": [
    {
     "name": "stdout",
     "output_type": "stream",
     "text": [
      "Number of clusters: 1\n",
      "Log-Likelihood: -5.506043238919457\n",
      "AIC: 16044.56165229994\n",
      "BIC: 16160.752136898487\n",
      "ICL: -9.146736070704598\n",
      "\n",
      "Number of clusters: 2\n",
      "Log-Likelihood: 6.80195994064303\n",
      "AIC: -19676.495587508645\n",
      "BIC: -19438.833232647983\n",
      "ICL: -0.4794257229272523\n",
      "\n",
      "Number of clusters: 3\n",
      "Log-Likelihood: 11.369766204762781\n",
      "AIC: -32904.54059104064\n",
      "BIC: -32545.40636591786\n",
      "ICL: 0.4476877094073579\n",
      "\n",
      "Number of clusters: 4\n",
      "Log-Likelihood: 16.131693394932807\n",
      "AIC: -46696.70100567474\n",
      "BIC: -46216.094910289845\n",
      "ICL: 1.5689220677922417\n",
      "\n",
      "Number of clusters: 5\n",
      "Log-Likelihood: 16.04121646820076\n",
      "AIC: -46387.7750565914\n",
      "BIC: -45785.69709094439\n",
      "ICL: -2.1622476907249464\n",
      "\n",
      "Number of clusters: 6\n",
      "Log-Likelihood: 15.39726323317821\n",
      "AIC: -44470.44695561588\n",
      "BIC: -43746.89711970675\n",
      "ICL: -6.446893757532637\n",
      "\n",
      "Number of clusters: 7\n",
      "Log-Likelihood: 18.674557868271528\n",
      "AIC: -53948.26516519706\n",
      "BIC: -53103.24345902581\n",
      "ICL: -6.810291954224461\n",
      "\n",
      "Number of clusters: 8\n",
      "Log-Likelihood: 21.762623778165267\n",
      "AIC: -62876.18469934827\n",
      "BIC: -61909.691122914905\n",
      "ICL: -7.362918876115863\n",
      "\n",
      "Number of clusters: 9\n",
      "Log-Likelihood: 22.5870094190586\n",
      "AIC: -65225.849371784294\n",
      "BIC: -64137.88392508881\n",
      "ICL: -10.179226067007672\n",
      "\n"
     ]
    }
   ],
   "source": [
    "from sklearn.mixture import GaussianMixture\n",
    "\n",
    "np.random.seed(1234)\n",
    "data = encoded_X\n",
    "\n",
    "k_range = range(1, 10)\n",
    "n_rep = 10\n",
    "\n",
    "for k in k_range:\n",
    "    best_model = None\n",
    "    best_log_likelihood = -np.inf\n",
    "    best_aic = np.inf\n",
    "    best_bic = np.inf\n",
    "    best_icl = -np.inf\n",
    "\n",
    "    for _ in range(n_rep):\n",
    "        model = GaussianMixture(n_components=k, covariance_type='diag')\n",
    "        model.fit(data)\n",
    "        log_likelihood = model.score(data)\n",
    "        aic = model.aic(data)\n",
    "        bic = model.bic(data)\n",
    "        # Calculate ICL\n",
    "        icl = log_likelihood - 0.5 * k * np.log(data.shape[0])\n",
    "        \n",
    "        if log_likelihood > best_log_likelihood:\n",
    "            best_log_likelihood = log_likelihood\n",
    "            best_aic = aic\n",
    "            best_bic = bic\n",
    "            best_icl = icl\n",
    "            best_model = model\n",
    "\n",
    "    print(f\"Number of clusters: {k}\")\n",
    "    print(f\"Log-Likelihood: {best_log_likelihood}\")\n",
    "    print(f\"AIC: {best_aic}\")\n",
    "    print(f\"BIC: {best_bic}\")\n",
    "    print(f\"ICL: {best_icl}\")\n",
    "    print()\n"
   ]
  },
  {
   "cell_type": "code",
   "execution_count": 32,
   "id": "a8d93547",
   "metadata": {},
   "outputs": [
    {
     "name": "stdout",
     "output_type": "stream",
     "text": [
      "0                 -3\n",
      "1                 +2\n",
      "2                 +1\n",
      "3                 +4\n",
      "4                 +2\n",
      "            ...     \n",
      "1448    I hate it!-5\n",
      "1449              +2\n",
      "1450              +3\n",
      "1451              +4\n",
      "1452              -3\n",
      "Name: Like, Length: 1453, dtype: object\n"
     ]
    }
   ],
   "source": [
    "print(new_data['Like'])"
   ]
  },
  {
   "cell_type": "code",
   "execution_count": 33,
   "id": "8c9fdb11",
   "metadata": {},
   "outputs": [
    {
     "name": "stdout",
     "output_type": "stream",
     "text": [
      "I love it!+5    143\n",
      "I hate it!-5    152\n",
      "0               169\n",
      "-4               71\n",
      "-3               73\n",
      "-2               59\n",
      "-1               58\n",
      "+4              160\n",
      "+3              229\n",
      "+2              187\n",
      "+1              152\n",
      "Name: Like, dtype: int64\n"
     ]
    }
   ],
   "source": [
    "#new_data is your DataFrame and 'Like' is the column you want to generate the frequency table from\n",
    "frequency_table = new_data['Like'].value_counts().sort_index(ascending=False)\n",
    "print(frequency_table)"
   ]
  },
  {
   "cell_type": "code",
   "execution_count": 34,
   "id": "3fbee8b6",
   "metadata": {
    "scrolled": true
   },
   "outputs": [
    {
     "name": "stdout",
     "output_type": "stream",
     "text": [
      "Gender  Female  Male\n",
      "Age                 \n",
      "18           7     9\n",
      "19           5     5\n",
      "20           8    13\n",
      "21          12     4\n",
      "22          14     9\n",
      "23          21     9\n",
      "24          14    16\n",
      "25          15    11\n",
      "26          13    18\n",
      "27          11    14\n",
      "28          10     8\n",
      "29          15    13\n",
      "30          14    14\n",
      "31          13    14\n",
      "32          18    15\n",
      "33          15    11\n",
      "34          20     8\n",
      "35          15    15\n",
      "36          12    23\n",
      "37          23    14\n",
      "38          20     7\n",
      "39          13    16\n",
      "40          14    13\n",
      "41          11    12\n",
      "42          16    14\n",
      "43          13    12\n",
      "44          10    22\n",
      "45          13     9\n",
      "46          13     6\n",
      "47          13    17\n",
      "48          12    14\n",
      "49          20    14\n",
      "50          20    14\n",
      "51          15    15\n",
      "52          25    11\n",
      "53          19    12\n",
      "54          13    11\n",
      "55          25    28\n",
      "56          24     8\n",
      "57          21    15\n",
      "58          21    14\n",
      "59          21    15\n",
      "60          19    19\n",
      "61          18     8\n",
      "62          18    16\n",
      "63          11    14\n",
      "64          15    17\n",
      "65          13    10\n",
      "66          10     7\n",
      "67          14    12\n",
      "68           6     7\n",
      "69           8     6\n",
      "70           9     6\n",
      "71           0     1\n"
     ]
    }
   ],
   "source": [
    "# Assuming you have a DataFrame called 'data' with columns 'Gender' and 'Age Group'\n",
    "cross_table = pd.pivot_table(new_data, index='Age', columns='Gender', aggfunc='size', fill_value=0)\n",
    "\n",
    "print(cross_table)"
   ]
  },
  {
   "cell_type": "code",
   "execution_count": 35,
   "id": "afb9e44a",
   "metadata": {},
   "outputs": [
    {
     "data": {
      "image/png": "[encoded data removed]",
      "text/plain": [
       "<Figure size 576x360 with 3 Axes>"
      ]
     },
     "metadata": {
      "needs_background": "light"
     },
     "output_type": "display_data"
    }
   ],
   "source": [
    "from statsmodels.graphics.mosaicplot import mosaic\n",
    "\n",
    "plt.rcParams['figure.figsize']=8,5\n",
    "mosaic(cross_table.stack())\n",
    "plt.show()"
   ]
  },
  {
   "cell_type": "code",
   "execution_count": 36,
   "id": "bcb9c601",
   "metadata": {},
   "outputs": [
    {
     "data": {
      "text/plain": [
       "<AxesSubplot:xlabel='Gender', ylabel='Age'>"
      ]
     },
     "execution_count": 36,
     "metadata": {},
     "output_type": "execute_result"
    },
    {
     "data": {
      "image/png": "[encoded data removed]",
      "text/plain": [
       "<Figure size 576x360 with 1 Axes>"
      ]
     },
     "metadata": {
      "needs_background": "light"
     },
     "output_type": "display_data"
    }
   ],
   "source": [
    "sns.boxplot(x='Gender',y='Age',data=new_data)"
   ]
  },
  {
   "cell_type": "markdown",
   "id": "cf68373c",
   "metadata": {},
   "source": [
    "# Selecting Target Segment"
   ]
  },
  {
   "cell_type": "code",
   "execution_count": 37,
   "id": "471ae606",
   "metadata": {},
   "outputs": [],
   "source": [
    "# Import label encoder\n",
    "from sklearn import preprocessing\n",
    "\n",
    "# label_encoder object knows\n",
    "# how to understand word labels.\n",
    "label_encoder = preprocessing.LabelEncoder()\n",
    "\n",
    "# Encode labels in column 'species'.\n",
    "new_data['Gender']= label_encoder.fit_transform(new_data['Gender'])"
   ]
  },
  {
   "cell_type": "code",
   "execution_count": 38,
   "id": "9f72a68a",
   "metadata": {},
   "outputs": [],
   "source": [
    "# Import label encoder\n",
    "from sklearn import preprocessing\n",
    "\n",
    "# label_encoder object knows\n",
    "# how to understand word labels.\n",
    "label_encoder = preprocessing.LabelEncoder()\n",
    "\n",
    "# Encode labels in column 'species'.\n",
    "new_data['Like']= label_encoder.fit_transform(new_data['Like'])"
   ]
  },
  {
   "cell_type": "code",
   "execution_count": 39,
   "id": "1b962b47",
   "metadata": {},
   "outputs": [],
   "source": [
    "# Import label encoder\n",
    "from sklearn import preprocessing\n",
    "\n",
    "# label_encoder object knows\n",
    "# how to understand word labels.\n",
    "label_encoder = preprocessing.LabelEncoder()\n",
    "\n",
    "# Encode labels in column 'species'.\n",
    "new_data['VisitFrequency']= label_encoder.fit_transform(new_data['VisitFrequency'])"
   ]
  },
  {
   "cell_type": "code",
   "execution_count": 40,
   "id": "4ddf2b5b",
   "metadata": {},
   "outputs": [
    {
     "name": "stdout",
     "output_type": "stream",
     "text": [
      "           ID yummy convenient spicy fattening greasy fast cheap tasty  \\\n",
      "0        CS-1    No        Yes    No       Yes     No  Yes   Yes    No   \n",
      "1        CS-2   Yes        Yes    No       Yes    Yes  Yes   Yes   Yes   \n",
      "2        CS-3    No        Yes   Yes       Yes    Yes  Yes    No   Yes   \n",
      "3        CS-4   Yes        Yes    No       Yes    Yes  Yes   Yes   Yes   \n",
      "4        CS-5    No        Yes    No       Yes    Yes  Yes   Yes    No   \n",
      "...       ...   ...        ...   ...       ...    ...  ...   ...   ...   \n",
      "1448  CS-1449    No        Yes    No       Yes    Yes   No    No    No   \n",
      "1449  CS-1450   Yes        Yes    No       Yes     No   No   Yes   Yes   \n",
      "1450  CS-1451   Yes        Yes    No       Yes     No  Yes    No   Yes   \n",
      "1451  CS-1452   Yes        Yes    No        No     No  Yes   Yes   Yes   \n",
      "1452  CS-1453    No        Yes    No       Yes    Yes   No    No    No   \n",
      "\n",
      "     expensive healthy disgusting  Like  Age  VisitFrequency  Gender  \n",
      "0          Yes      No         No     6   61               0       0  \n",
      "1          Yes      No         No     1   51               0       0  \n",
      "2          Yes     Yes         No     0   62               0       0  \n",
      "3           No      No        Yes     3   69               4       0  \n",
      "4           No     Yes         No     1   49               3       1  \n",
      "...        ...     ...        ...   ...  ...             ...     ...  \n",
      "1448       Yes      No        Yes     9   47               5       1  \n",
      "1449        No     Yes         No     1   36               4       0  \n",
      "1450       Yes      No         No     2   52               3       0  \n",
      "1451        No     Yes         No     3   41               0       1  \n",
      "1452       Yes      No        Yes     6   30               0       1  \n",
      "\n",
      "[1453 rows x 16 columns]\n"
     ]
    }
   ],
   "source": [
    "start = 1\n",
    "\n",
    "new_data.insert(0, 'ID', [ 'CS-' + str(id) for id in range(start, start + new_data.shape[0])])\n",
    "\n",
    "print(new_data)"
   ]
  },
  {
   "cell_type": "code",
   "execution_count": 41,
   "id": "14724c21",
   "metadata": {},
   "outputs": [
    {
     "data": {
      "text/plain": [
       "ID\n",
       "CS-1       0.0\n",
       "CS-10      0.0\n",
       "CS-100     1.0\n",
       "CS-1000    0.0\n",
       "CS-1001    1.0\n",
       "          ... \n",
       "CS-995     0.0\n",
       "CS-996     1.0\n",
       "CS-997     0.0\n",
       "CS-998     1.0\n",
       "CS-999     0.0\n",
       "Name: Gender, Length: 1453, dtype: float64"
      ]
     },
     "execution_count": 41,
     "metadata": {},
     "output_type": "execute_result"
    }
   ],
   "source": [
    "mean=new_data.groupby('ID')['Gender'].mean()\n",
    "mean"
   ]
  },
  {
   "cell_type": "code",
   "execution_count": 42,
   "id": "e9da6f76",
   "metadata": {},
   "outputs": [
    {
     "data": {
      "text/plain": [
       "ID\n",
       "CS-1        6.0\n",
       "CS-10       0.0\n",
       "CS-100      1.0\n",
       "CS-1000    10.0\n",
       "CS-1001     9.0\n",
       "           ... \n",
       "CS-995     10.0\n",
       "CS-996      2.0\n",
       "CS-997      3.0\n",
       "CS-998      0.0\n",
       "CS-999     10.0\n",
       "Name: Like, Length: 1453, dtype: float64"
      ]
     },
     "execution_count": 42,
     "metadata": {},
     "output_type": "execute_result"
    }
   ],
   "source": [
    "mean=new_data.groupby('ID')['Like'].mean()\n",
    "mean"
   ]
  },
  {
   "cell_type": "code",
   "execution_count": null,
   "id": "07945c87",
   "metadata": {},
   "outputs": [],
   "source": []
  }
 ],
 "metadata": {
  "kernelspec": {
   "display_name": "Python 3 (ipykernel)",
   "language": "python",
   "name": "python3"
  },
  "language_info": {
   "codemirror_mode": {
    "name": "ipython",
    "version": 3
   },
   "file_extension": ".py",
   "mimetype": "text/x-python",
   "name": "python",
   "nbconvert_exporter": "python",
   "pygments_lexer": "ipython3",
   "version": "3.9.12"
  }
 },
 "nbformat": 4,
 "nbformat_minor": 5
}
